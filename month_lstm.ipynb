{
 "cells": [
  {
   "cell_type": "code",
   "execution_count": 1004,
   "id": "2efb2ad1-d906-4939-a28d-7b21073af3e0",
   "metadata": {},
   "outputs": [],
   "source": [
    "import numpy as np\n",
    "import pandas as pd\n",
    "import random"
   ]
  },
  {
   "cell_type": "markdown",
   "id": "96ed5f24-b184-46e3-8a7a-9d626e4843e5",
   "metadata": {},
   "source": [
    "**Data Preprocessing** "
   ]
  },
  {
   "cell_type": "code",
   "execution_count": 1005,
   "id": "f535d506-9cf1-46ae-a5dd-0176b589702d",
   "metadata": {},
   "outputs": [],
   "source": [
    "#read in gage height file\n",
    "readf = pd.read_csv(r'10yearsdata.csv')\n",
    "waterrange = readf[:3561]\n",
    "df1 = readf['Height'][:3561].copy()"
   ]
  },
  {
   "cell_type": "code",
   "execution_count": 1006,
   "id": "4c76bedc-d2d1-4f08-8f06-0f43647ec203",
   "metadata": {},
   "outputs": [],
   "source": [
    "#read in weather file\n",
    "weatherfile = pd.read_csv(r'weather.csv')"
   ]
  },
  {
   "cell_type": "code",
   "execution_count": 1007,
   "id": "9c094b33-1ad3-4cd7-bd70-5161cf188b7d",
   "metadata": {},
   "outputs": [
    {
     "data": {
      "text/html": [
       "<div>\n",
       "<style scoped>\n",
       "    .dataframe tbody tr th:only-of-type {\n",
       "        vertical-align: middle;\n",
       "    }\n",
       "\n",
       "    .dataframe tbody tr th {\n",
       "        vertical-align: top;\n",
       "    }\n",
       "\n",
       "    .dataframe thead th {\n",
       "        text-align: right;\n",
       "    }\n",
       "</style>\n",
       "<table border=\"1\" class=\"dataframe\">\n",
       "  <thead>\n",
       "    <tr style=\"text-align: right;\">\n",
       "      <th></th>\n",
       "      <th>Number</th>\n",
       "      <th>Date</th>\n",
       "      <th>Maximum Temperature degrees (F)</th>\n",
       "      <th>Minimum Temperature degrees (F)</th>\n",
       "      <th>Precipitation (inches)</th>\n",
       "      <th>Snow (inches)</th>\n",
       "      <th>Snow Depth (inches)</th>\n",
       "    </tr>\n",
       "  </thead>\n",
       "  <tbody>\n",
       "    <tr>\n",
       "      <th>1391</th>\n",
       "      <td>1392</td>\n",
       "      <td>2013-10-23</td>\n",
       "      <td>39</td>\n",
       "      <td>33</td>\n",
       "      <td>0</td>\n",
       "      <td>0</td>\n",
       "      <td>0</td>\n",
       "    </tr>\n",
       "  </tbody>\n",
       "</table>\n",
       "</div>"
      ],
      "text/plain": [
       "      Number        Date  Maximum Temperature degrees (F)  \\\n",
       "1391    1392  2013-10-23                               39   \n",
       "\n",
       "      Minimum Temperature degrees (F) Precipitation (inches) Snow (inches)  \\\n",
       "1391                               33                      0             0   \n",
       "\n",
       "     Snow Depth (inches)  \n",
       "1391                   0  "
      ]
     },
     "execution_count": 1007,
     "metadata": {},
     "output_type": "execute_result"
    }
   ],
   "source": [
    "weatherfile.loc[weatherfile['Date'] == '2013-10-23']"
   ]
  },
  {
   "cell_type": "code",
   "execution_count": 1008,
   "id": "9e885d4e-417f-4bac-a332-c731b7c9b830",
   "metadata": {},
   "outputs": [],
   "source": [
    "weatherfile = weatherfile[['Date','Precipitation (inches)']][1391:]"
   ]
  },
  {
   "cell_type": "code",
   "execution_count": 1009,
   "id": "ae3a013f-3d74-4639-83ae-2316eb666b38",
   "metadata": {},
   "outputs": [],
   "source": [
    "#replace empty 'T' values with previous\n",
    "weatherfile['Precipitation (inches)'] = weatherfile['Precipitation (inches)'].replace(to_replace='T',method='ffill') \n",
    "weatherfile['Precipitation (inches)'][0] = 0\n",
    "weatherfile = weatherfile.reset_index(drop=True)"
   ]
  },
  {
   "cell_type": "code",
   "execution_count": 1010,
   "id": "40f53755-29c5-49b4-ae2f-e0b815e12e67",
   "metadata": {},
   "outputs": [],
   "source": [
    "#find missing dates, differences between the 2 arrays\n",
    "date1 = readf['Date'].copy()\n",
    "date2 = weatherfile['Date']\n",
    "date2 = date2.reset_index(drop=True)\n",
    "dt1 = date1.to_numpy()\n",
    "dt2 = date2.to_numpy()\n",
    "diff = np.setdiff1d(dt2, dt1)"
   ]
  },
  {
   "cell_type": "code",
   "execution_count": 1011,
   "id": "a1c70451-d2ba-44db-9622-140c34869523",
   "metadata": {},
   "outputs": [
    {
     "data": {
      "text/plain": [
       "array(['2021-11-09', '2021-11-10', '2021-11-11'], dtype=object)"
      ]
     },
     "execution_count": 1011,
     "metadata": {},
     "output_type": "execute_result"
    }
   ],
   "source": [
    "diff"
   ]
  },
  {
   "cell_type": "code",
   "execution_count": 1012,
   "id": "17d0b2dc-b96e-4f3c-86fc-05dfd2eac711",
   "metadata": {},
   "outputs": [
    {
     "data": {
      "text/plain": [
       "array(['2023-07-27', '2023-07-28', '2023-07-29', '2023-07-30',\n",
       "       '2023-07-31', '2023-08-01', '2023-08-02', '2023-08-03',\n",
       "       '2023-08-04'], dtype=object)"
      ]
     },
     "execution_count": 1012,
     "metadata": {},
     "output_type": "execute_result"
    }
   ],
   "source": [
    "np.setdiff1d(dt1,dt2)"
   ]
  },
  {
   "cell_type": "code",
   "execution_count": 1013,
   "id": "09250a40-847d-43a9-8455-8f074825f0c5",
   "metadata": {},
   "outputs": [
    {
     "data": {
      "text/html": [
       "<div>\n",
       "<style scoped>\n",
       "    .dataframe tbody tr th:only-of-type {\n",
       "        vertical-align: middle;\n",
       "    }\n",
       "\n",
       "    .dataframe tbody tr th {\n",
       "        vertical-align: top;\n",
       "    }\n",
       "\n",
       "    .dataframe thead th {\n",
       "        text-align: right;\n",
       "    }\n",
       "</style>\n",
       "<table border=\"1\" class=\"dataframe\">\n",
       "  <thead>\n",
       "    <tr style=\"text-align: right;\">\n",
       "      <th></th>\n",
       "      <th>Date</th>\n",
       "      <th>Precipitation (inches)</th>\n",
       "    </tr>\n",
       "  </thead>\n",
       "  <tbody>\n",
       "    <tr>\n",
       "      <th>2939</th>\n",
       "      <td>2021-11-09</td>\n",
       "      <td>0</td>\n",
       "    </tr>\n",
       "  </tbody>\n",
       "</table>\n",
       "</div>"
      ],
      "text/plain": [
       "            Date Precipitation (inches)\n",
       "2939  2021-11-09                      0"
      ]
     },
     "execution_count": 1013,
     "metadata": {},
     "output_type": "execute_result"
    }
   ],
   "source": [
    "weatherfile.loc[weatherfile['Date'] == '2021-11-09']"
   ]
  },
  {
   "cell_type": "code",
   "execution_count": 1014,
   "id": "8fca63da-4316-4b35-9157-e67617f0a6e9",
   "metadata": {},
   "outputs": [],
   "source": [
    "df2 = weatherfile.drop([2939,2940,2941]) #drop precipitation rows to match missing dates in gage height data\n",
    "dates = df2['Date']\n",
    "dates = pd.to_datetime(dates)\n",
    "df2 = df2['Precipitation (inches)']\n",
    "df2 = df2.reset_index(drop=True)"
   ]
  },
  {
   "cell_type": "code",
   "execution_count": 1015,
   "id": "d14538a9-b47a-4e5f-8942-7bcefbe5be77",
   "metadata": {},
   "outputs": [],
   "source": [
    "df1 = df1.reset_index(drop=True)"
   ]
  },
  {
   "cell_type": "code",
   "execution_count": 1016,
   "id": "7887f778-43a3-4d8e-8239-fea2662ee1d8",
   "metadata": {},
   "outputs": [],
   "source": [
    "#combine water level and precipitation into one dataframe\n",
    "inputdata = pd.concat([df1,df2],axis=1)"
   ]
  },
  {
   "cell_type": "code",
   "execution_count": 1017,
   "id": "9115570f-f554-4bb6-957f-58054f5907e1",
   "metadata": {},
   "outputs": [],
   "source": [
    "inputdata = inputdata.set_index(dates)"
   ]
  },
  {
   "cell_type": "code",
   "execution_count": 1018,
   "id": "9451118e-7719-446b-be98-488e728c2665",
   "metadata": {},
   "outputs": [
    {
     "data": {
      "text/html": [
       "<div>\n",
       "<style scoped>\n",
       "    .dataframe tbody tr th:only-of-type {\n",
       "        vertical-align: middle;\n",
       "    }\n",
       "\n",
       "    .dataframe tbody tr th {\n",
       "        vertical-align: top;\n",
       "    }\n",
       "\n",
       "    .dataframe thead th {\n",
       "        text-align: right;\n",
       "    }\n",
       "</style>\n",
       "<table border=\"1\" class=\"dataframe\">\n",
       "  <thead>\n",
       "    <tr style=\"text-align: right;\">\n",
       "      <th></th>\n",
       "      <th>Height</th>\n",
       "      <th>Precipitation (inches)</th>\n",
       "    </tr>\n",
       "    <tr>\n",
       "      <th>Date</th>\n",
       "      <th></th>\n",
       "      <th></th>\n",
       "    </tr>\n",
       "  </thead>\n",
       "  <tbody>\n",
       "    <tr>\n",
       "      <th>2013-10-23</th>\n",
       "      <td>3.473590</td>\n",
       "      <td>0</td>\n",
       "    </tr>\n",
       "    <tr>\n",
       "      <th>2013-10-24</th>\n",
       "      <td>3.472708</td>\n",
       "      <td>0</td>\n",
       "    </tr>\n",
       "    <tr>\n",
       "      <th>2013-10-25</th>\n",
       "      <td>3.512083</td>\n",
       "      <td>0</td>\n",
       "    </tr>\n",
       "    <tr>\n",
       "      <th>2013-10-26</th>\n",
       "      <td>3.363437</td>\n",
       "      <td>0</td>\n",
       "    </tr>\n",
       "    <tr>\n",
       "      <th>2013-10-27</th>\n",
       "      <td>3.445521</td>\n",
       "      <td>0</td>\n",
       "    </tr>\n",
       "  </tbody>\n",
       "</table>\n",
       "</div>"
      ],
      "text/plain": [
       "              Height Precipitation (inches)\n",
       "Date                                       \n",
       "2013-10-23  3.473590                      0\n",
       "2013-10-24  3.472708                      0\n",
       "2013-10-25  3.512083                      0\n",
       "2013-10-26  3.363437                      0\n",
       "2013-10-27  3.445521                      0"
      ]
     },
     "execution_count": 1018,
     "metadata": {},
     "output_type": "execute_result"
    }
   ],
   "source": [
    "inputdata.head()"
   ]
  },
  {
   "cell_type": "markdown",
   "id": "be70267f-9741-4815-918d-1a1190d6b27a",
   "metadata": {},
   "source": [
    "**Graphing initial data**"
   ]
  },
  {
   "cell_type": "code",
   "execution_count": 1019,
   "id": "abdd163a-7c91-4457-a4f4-10ed0c73eee6",
   "metadata": {},
   "outputs": [
    {
     "data": {
      "text/plain": [
       "Text(0, 0.5, 'Water Level (inches)')"
      ]
     },
     "execution_count": 1019,
     "metadata": {},
     "output_type": "execute_result"
    },
    {
     "data": {
      "image/png": "[encoded data removed]",
      "text/plain": [
       "<Figure size 640x480 with 1 Axes>"
      ]
     },
     "metadata": {},
     "output_type": "display_data"
    }
   ],
   "source": [
    "plt.plot(inputdata['Height'])\n",
    "plt.xlabel(\"Date\")\n",
    "plt.ylabel(\"Water Level (inches)\")\n",
    "#plt.plot(inputdata['Precipitation (inches)'][1:50])"
   ]
  },
  {
   "cell_type": "code",
   "execution_count": 1020,
   "id": "0293cede-a5d5-4f9b-b409-4afd0fd610ea",
   "metadata": {},
   "outputs": [],
   "source": [
    "def split_years(dt, dates):\n",
    "    dt['year'] = pd.DatetimeIndex(dates).year\n",
    "    return [dt[dt['year'] == y] for y in dt['year'].unique()]\n",
    "\n",
    "split = split_years(inputdata, dates)"
   ]
  },
  {
   "cell_type": "code",
   "execution_count": 1021,
   "id": "9f9c10e5-c0db-4328-b844-f59dc69879ac",
   "metadata": {},
   "outputs": [],
   "source": [
    "split = [split[i].reset_index(drop=True)['Height'] for i in range(len(split))]"
   ]
  },
  {
   "cell_type": "code",
   "execution_count": 1022,
   "id": "3f7d1694-557e-40b9-aa5d-c8798e4b9c0d",
   "metadata": {},
   "outputs": [
    {
     "data": {
      "text/plain": [
       "11"
      ]
     },
     "execution_count": 1022,
     "metadata": {},
     "output_type": "execute_result"
    }
   ],
   "source": [
    "len(split)"
   ]
  },
  {
   "cell_type": "code",
   "execution_count": 1023,
   "id": "d138391e-ad56-4c95-b5c2-667f0f7743f1",
   "metadata": {},
   "outputs": [],
   "source": [
    "years = np.arange(2013,2024)\n",
    "splitdf = pd.DataFrame(index=np.arange(366),columns=years)\n",
    "for i in range(len(split)):\n",
    "    splitdf[years[i]] = split[i]"
   ]
  },
  {
   "cell_type": "code",
   "execution_count": 1024,
   "id": "d750b1d5-af61-4fab-8df6-5269aa4242e6",
   "metadata": {},
   "outputs": [
    {
     "data": {
      "text/html": [
       "<div>\n",
       "<style scoped>\n",
       "    .dataframe tbody tr th:only-of-type {\n",
       "        vertical-align: middle;\n",
       "    }\n",
       "\n",
       "    .dataframe tbody tr th {\n",
       "        vertical-align: top;\n",
       "    }\n",
       "\n",
       "    .dataframe thead th {\n",
       "        text-align: right;\n",
       "    }\n",
       "</style>\n",
       "<table border=\"1\" class=\"dataframe\">\n",
       "  <thead>\n",
       "    <tr style=\"text-align: right;\">\n",
       "      <th></th>\n",
       "      <th>2013</th>\n",
       "      <th>2014</th>\n",
       "      <th>2015</th>\n",
       "      <th>2016</th>\n",
       "      <th>2017</th>\n",
       "      <th>2018</th>\n",
       "      <th>2019</th>\n",
       "      <th>2020</th>\n",
       "      <th>2021</th>\n",
       "      <th>2022</th>\n",
       "      <th>2023</th>\n",
       "    </tr>\n",
       "  </thead>\n",
       "  <tbody>\n",
       "    <tr>\n",
       "      <th>0</th>\n",
       "      <td>3.473590</td>\n",
       "      <td>3.385833</td>\n",
       "      <td>3.281146</td>\n",
       "      <td>3.919062</td>\n",
       "      <td>6.406667</td>\n",
       "      <td>3.510833</td>\n",
       "      <td>4.298125</td>\n",
       "      <td>4.959583</td>\n",
       "      <td>3.652500</td>\n",
       "      <td>3.604271</td>\n",
       "      <td>3.549514</td>\n",
       "    </tr>\n",
       "    <tr>\n",
       "      <th>1</th>\n",
       "      <td>3.472708</td>\n",
       "      <td>3.280625</td>\n",
       "      <td>3.627813</td>\n",
       "      <td>4.049479</td>\n",
       "      <td>6.354479</td>\n",
       "      <td>3.511979</td>\n",
       "      <td>3.756875</td>\n",
       "      <td>5.458437</td>\n",
       "      <td>3.655104</td>\n",
       "      <td>3.484896</td>\n",
       "      <td>3.511597</td>\n",
       "    </tr>\n",
       "    <tr>\n",
       "      <th>2</th>\n",
       "      <td>3.512083</td>\n",
       "      <td>3.252708</td>\n",
       "      <td>3.727396</td>\n",
       "      <td>3.921771</td>\n",
       "      <td>6.213542</td>\n",
       "      <td>3.465625</td>\n",
       "      <td>3.761979</td>\n",
       "      <td>5.718021</td>\n",
       "      <td>3.669792</td>\n",
       "      <td>3.506771</td>\n",
       "      <td>3.474375</td>\n",
       "    </tr>\n",
       "    <tr>\n",
       "      <th>3</th>\n",
       "      <td>3.363437</td>\n",
       "      <td>3.050208</td>\n",
       "      <td>3.617396</td>\n",
       "      <td>3.822917</td>\n",
       "      <td>5.959167</td>\n",
       "      <td>3.437604</td>\n",
       "      <td>4.319375</td>\n",
       "      <td>5.552708</td>\n",
       "      <td>3.507500</td>\n",
       "      <td>3.612569</td>\n",
       "      <td>3.482500</td>\n",
       "    </tr>\n",
       "    <tr>\n",
       "      <th>4</th>\n",
       "      <td>3.445521</td>\n",
       "      <td>3.116354</td>\n",
       "      <td>3.291354</td>\n",
       "      <td>3.742917</td>\n",
       "      <td>5.595833</td>\n",
       "      <td>3.461146</td>\n",
       "      <td>4.427396</td>\n",
       "      <td>5.528958</td>\n",
       "      <td>3.440000</td>\n",
       "      <td>3.746632</td>\n",
       "      <td>3.421424</td>\n",
       "    </tr>\n",
       "    <tr>\n",
       "      <th>...</th>\n",
       "      <td>...</td>\n",
       "      <td>...</td>\n",
       "      <td>...</td>\n",
       "      <td>...</td>\n",
       "      <td>...</td>\n",
       "      <td>...</td>\n",
       "      <td>...</td>\n",
       "      <td>...</td>\n",
       "      <td>...</td>\n",
       "      <td>...</td>\n",
       "      <td>...</td>\n",
       "    </tr>\n",
       "    <tr>\n",
       "      <th>361</th>\n",
       "      <td>NaN</td>\n",
       "      <td>3.457604</td>\n",
       "      <td>3.862604</td>\n",
       "      <td>6.280625</td>\n",
       "      <td>3.724792</td>\n",
       "      <td>4.094688</td>\n",
       "      <td>4.905417</td>\n",
       "      <td>3.277292</td>\n",
       "      <td>3.540417</td>\n",
       "      <td>3.403507</td>\n",
       "      <td>NaN</td>\n",
       "    </tr>\n",
       "    <tr>\n",
       "      <th>362</th>\n",
       "      <td>NaN</td>\n",
       "      <td>3.260521</td>\n",
       "      <td>3.349896</td>\n",
       "      <td>6.231042</td>\n",
       "      <td>3.619479</td>\n",
       "      <td>3.997396</td>\n",
       "      <td>5.270729</td>\n",
       "      <td>3.675625</td>\n",
       "      <td>NaN</td>\n",
       "      <td>3.515243</td>\n",
       "      <td>NaN</td>\n",
       "    </tr>\n",
       "    <tr>\n",
       "      <th>363</th>\n",
       "      <td>NaN</td>\n",
       "      <td>3.260208</td>\n",
       "      <td>3.437292</td>\n",
       "      <td>6.358229</td>\n",
       "      <td>3.583021</td>\n",
       "      <td>3.881458</td>\n",
       "      <td>5.278437</td>\n",
       "      <td>3.689271</td>\n",
       "      <td>NaN</td>\n",
       "      <td>3.534167</td>\n",
       "      <td>NaN</td>\n",
       "    </tr>\n",
       "    <tr>\n",
       "      <th>364</th>\n",
       "      <td>NaN</td>\n",
       "      <td>3.090521</td>\n",
       "      <td>3.687604</td>\n",
       "      <td>6.436458</td>\n",
       "      <td>3.538021</td>\n",
       "      <td>4.305417</td>\n",
       "      <td>5.175937</td>\n",
       "      <td>3.614063</td>\n",
       "      <td>NaN</td>\n",
       "      <td>3.569375</td>\n",
       "      <td>NaN</td>\n",
       "    </tr>\n",
       "    <tr>\n",
       "      <th>365</th>\n",
       "      <td>NaN</td>\n",
       "      <td>NaN</td>\n",
       "      <td>NaN</td>\n",
       "      <td>6.400625</td>\n",
       "      <td>NaN</td>\n",
       "      <td>NaN</td>\n",
       "      <td>NaN</td>\n",
       "      <td>3.674062</td>\n",
       "      <td>NaN</td>\n",
       "      <td>NaN</td>\n",
       "      <td>NaN</td>\n",
       "    </tr>\n",
       "  </tbody>\n",
       "</table>\n",
       "<p>366 rows × 11 columns</p>\n",
       "</div>"
      ],
      "text/plain": [
       "         2013      2014      2015      2016      2017      2018      2019  \\\n",
       "0    3.473590  3.385833  3.281146  3.919062  6.406667  3.510833  4.298125   \n",
       "1    3.472708  3.280625  3.627813  4.049479  6.354479  3.511979  3.756875   \n",
       "2    3.512083  3.252708  3.727396  3.921771  6.213542  3.465625  3.761979   \n",
       "3    3.363437  3.050208  3.617396  3.822917  5.959167  3.437604  4.319375   \n",
       "4    3.445521  3.116354  3.291354  3.742917  5.595833  3.461146  4.427396   \n",
       "..        ...       ...       ...       ...       ...       ...       ...   \n",
       "361       NaN  3.457604  3.862604  6.280625  3.724792  4.094688  4.905417   \n",
       "362       NaN  3.260521  3.349896  6.231042  3.619479  3.997396  5.270729   \n",
       "363       NaN  3.260208  3.437292  6.358229  3.583021  3.881458  5.278437   \n",
       "364       NaN  3.090521  3.687604  6.436458  3.538021  4.305417  5.175937   \n",
       "365       NaN       NaN       NaN  6.400625       NaN       NaN       NaN   \n",
       "\n",
       "         2020      2021      2022      2023  \n",
       "0    4.959583  3.652500  3.604271  3.549514  \n",
       "1    5.458437  3.655104  3.484896  3.511597  \n",
       "2    5.718021  3.669792  3.506771  3.474375  \n",
       "3    5.552708  3.507500  3.612569  3.482500  \n",
       "4    5.528958  3.440000  3.746632  3.421424  \n",
       "..        ...       ...       ...       ...  \n",
       "361  3.277292  3.540417  3.403507       NaN  \n",
       "362  3.675625       NaN  3.515243       NaN  \n",
       "363  3.689271       NaN  3.534167       NaN  \n",
       "364  3.614063       NaN  3.569375       NaN  \n",
       "365  3.674062       NaN       NaN       NaN  \n",
       "\n",
       "[366 rows x 11 columns]"
      ]
     },
     "execution_count": 1024,
     "metadata": {},
     "output_type": "execute_result"
    }
   ],
   "source": [
    "splitdf"
   ]
  },
  {
   "cell_type": "code",
   "execution_count": 1025,
   "id": "386ca215-6c52-4786-b2a8-c53eead54409",
   "metadata": {},
   "outputs": [],
   "source": [
    "labels = splitdf.columns\n",
    "labels = [str(i) for i in labels]"
   ]
  },
  {
   "cell_type": "code",
   "execution_count": 1026,
   "id": "a77efa6c-0bf3-4dd3-a3db-5e3982618717",
   "metadata": {},
   "outputs": [
    {
     "data": {
      "text/plain": [
       "Text(0, 0.5, 'Water Level (inches)')"
      ]
     },
     "execution_count": 1026,
     "metadata": {},
     "output_type": "execute_result"
    },
    {
     "data": {
      "image/png": "[encoded data removed]",
      "text/plain": [
       "<Figure size 640x480 with 1 Axes>"
      ]
     },
     "metadata": {},
     "output_type": "display_data"
    }
   ],
   "source": [
    "plt.boxplot(splitdf)\n",
    "plt.xlabel(\"Month\")\n",
    "plt.ylabel(\"Water Level (inches)\")"
   ]
  },
  {
   "cell_type": "code",
   "execution_count": 1027,
   "id": "48f3ff7c-0940-400c-a97b-f426681b9f33",
   "metadata": {},
   "outputs": [],
   "source": [
    "#shifts data into time steps to use for forecasting\n",
    "\n",
    "def shift_series(data, n_in=1, n_out=1):\n",
    " n_vars = 1 if type(data) is pd.core.series.Series else data.shape[1] #amount of input variables\n",
    " df = pd.DataFrame(data)\n",
    " cols, names = list(), list()\n",
    " # past time steps (t-n)\n",
    " for i in range(n_in, 0, -1):\n",
    "     cols.append(df.shift(i))\n",
    "     names += [('var%d(t-%d)' % (j+1, i)) for j in range(n_vars)]\n",
    " # future time steps (t+n)\n",
    " for i in range(0, n_out):\n",
    "     cols.append(df.shift(-i))\n",
    "     if i == 0:\n",
    "         names += [('var%d(t)' % (j+1)) for j in range(n_vars)]\n",
    "     else:\n",
    "         names += [('var%d(t+%d)' % (j+1, i)) for j in range(n_vars)]\n",
    " agg = pd.concat(cols, axis=1)\n",
    " agg.columns = names\n",
    " agg = agg[agg.columns[::-1]]\n",
    " # remove rows with missing values\n",
    " agg.dropna(inplace=True)\n",
    " return agg"
   ]
  },
  {
   "cell_type": "code",
   "execution_count": 1028,
   "id": "0d2bcd2d-3fd6-4cc7-a099-a5e2ebda2522",
   "metadata": {},
   "outputs": [],
   "source": [
    "n_days = 7 #time lags\n",
    "n_features = 2 #features: past precipitation and water level\n",
    "n_predict = 30 #days into the future"
   ]
  },
  {
   "cell_type": "code",
   "execution_count": 1029,
   "id": "d6f01977-e275-4074-a3c7-03981f74d5c1",
   "metadata": {},
   "outputs": [],
   "source": [
    "data = shift_series(inputdata, n_days, n_predict)"
   ]
  },
  {
   "cell_type": "code",
   "execution_count": 1030,
   "id": "a0f2a9bb-3b56-4cf1-a2d5-b18d63c51794",
   "metadata": {},
   "outputs": [
    {
     "data": {
      "text/html": [
       "<div>\n",
       "<style scoped>\n",
       "    .dataframe tbody tr th:only-of-type {\n",
       "        vertical-align: middle;\n",
       "    }\n",
       "\n",
       "    .dataframe tbody tr th {\n",
       "        vertical-align: top;\n",
       "    }\n",
       "\n",
       "    .dataframe thead th {\n",
       "        text-align: right;\n",
       "    }\n",
       "</style>\n",
       "<table border=\"1\" class=\"dataframe\">\n",
       "  <thead>\n",
       "    <tr style=\"text-align: right;\">\n",
       "      <th></th>\n",
       "      <th>var3(t+29)</th>\n",
       "      <th>var2(t+29)</th>\n",
       "      <th>var1(t+29)</th>\n",
       "      <th>var3(t+28)</th>\n",
       "      <th>var2(t+28)</th>\n",
       "      <th>var1(t+28)</th>\n",
       "      <th>var3(t+27)</th>\n",
       "      <th>var2(t+27)</th>\n",
       "      <th>var1(t+27)</th>\n",
       "      <th>var3(t+26)</th>\n",
       "      <th>...</th>\n",
       "      <th>var1(t-4)</th>\n",
       "      <th>var3(t-5)</th>\n",
       "      <th>var2(t-5)</th>\n",
       "      <th>var1(t-5)</th>\n",
       "      <th>var3(t-6)</th>\n",
       "      <th>var2(t-6)</th>\n",
       "      <th>var1(t-6)</th>\n",
       "      <th>var3(t-7)</th>\n",
       "      <th>var2(t-7)</th>\n",
       "      <th>var1(t-7)</th>\n",
       "    </tr>\n",
       "    <tr>\n",
       "      <th>Date</th>\n",
       "      <th></th>\n",
       "      <th></th>\n",
       "      <th></th>\n",
       "      <th></th>\n",
       "      <th></th>\n",
       "      <th></th>\n",
       "      <th></th>\n",
       "      <th></th>\n",
       "      <th></th>\n",
       "      <th></th>\n",
       "      <th></th>\n",
       "      <th></th>\n",
       "      <th></th>\n",
       "      <th></th>\n",
       "      <th></th>\n",
       "      <th></th>\n",
       "      <th></th>\n",
       "      <th></th>\n",
       "      <th></th>\n",
       "      <th></th>\n",
       "      <th></th>\n",
       "    </tr>\n",
       "  </thead>\n",
       "  <tbody>\n",
       "    <tr>\n",
       "      <th>2013-10-30</th>\n",
       "      <td>2013.0</td>\n",
       "      <td>0</td>\n",
       "      <td>3.349687</td>\n",
       "      <td>2013.0</td>\n",
       "      <td>0</td>\n",
       "      <td>3.336979</td>\n",
       "      <td>2013.0</td>\n",
       "      <td>0</td>\n",
       "      <td>3.070729</td>\n",
       "      <td>2013.0</td>\n",
       "      <td>...</td>\n",
       "      <td>3.363437</td>\n",
       "      <td>2013.0</td>\n",
       "      <td>0</td>\n",
       "      <td>3.512083</td>\n",
       "      <td>2013.0</td>\n",
       "      <td>0</td>\n",
       "      <td>3.472708</td>\n",
       "      <td>2013.0</td>\n",
       "      <td>0</td>\n",
       "      <td>3.473590</td>\n",
       "    </tr>\n",
       "    <tr>\n",
       "      <th>2013-10-31</th>\n",
       "      <td>2013.0</td>\n",
       "      <td>0</td>\n",
       "      <td>3.468646</td>\n",
       "      <td>2013.0</td>\n",
       "      <td>0</td>\n",
       "      <td>3.349687</td>\n",
       "      <td>2013.0</td>\n",
       "      <td>0</td>\n",
       "      <td>3.336979</td>\n",
       "      <td>2013.0</td>\n",
       "      <td>...</td>\n",
       "      <td>3.445521</td>\n",
       "      <td>2013.0</td>\n",
       "      <td>0</td>\n",
       "      <td>3.363437</td>\n",
       "      <td>2013.0</td>\n",
       "      <td>0</td>\n",
       "      <td>3.512083</td>\n",
       "      <td>2013.0</td>\n",
       "      <td>0</td>\n",
       "      <td>3.472708</td>\n",
       "    </tr>\n",
       "    <tr>\n",
       "      <th>2013-11-01</th>\n",
       "      <td>2013.0</td>\n",
       "      <td>0</td>\n",
       "      <td>3.476979</td>\n",
       "      <td>2013.0</td>\n",
       "      <td>0</td>\n",
       "      <td>3.468646</td>\n",
       "      <td>2013.0</td>\n",
       "      <td>0</td>\n",
       "      <td>3.349687</td>\n",
       "      <td>2013.0</td>\n",
       "      <td>...</td>\n",
       "      <td>3.502813</td>\n",
       "      <td>2013.0</td>\n",
       "      <td>0</td>\n",
       "      <td>3.445521</td>\n",
       "      <td>2013.0</td>\n",
       "      <td>0</td>\n",
       "      <td>3.363437</td>\n",
       "      <td>2013.0</td>\n",
       "      <td>0</td>\n",
       "      <td>3.512083</td>\n",
       "    </tr>\n",
       "    <tr>\n",
       "      <th>2013-11-02</th>\n",
       "      <td>2013.0</td>\n",
       "      <td>0</td>\n",
       "      <td>3.455104</td>\n",
       "      <td>2013.0</td>\n",
       "      <td>0</td>\n",
       "      <td>3.476979</td>\n",
       "      <td>2013.0</td>\n",
       "      <td>0</td>\n",
       "      <td>3.468646</td>\n",
       "      <td>2013.0</td>\n",
       "      <td>...</td>\n",
       "      <td>3.474375</td>\n",
       "      <td>2013.0</td>\n",
       "      <td>0</td>\n",
       "      <td>3.502813</td>\n",
       "      <td>2013.0</td>\n",
       "      <td>0</td>\n",
       "      <td>3.445521</td>\n",
       "      <td>2013.0</td>\n",
       "      <td>0</td>\n",
       "      <td>3.363437</td>\n",
       "    </tr>\n",
       "    <tr>\n",
       "      <th>2013-11-03</th>\n",
       "      <td>2013.0</td>\n",
       "      <td>0.12</td>\n",
       "      <td>3.481563</td>\n",
       "      <td>2013.0</td>\n",
       "      <td>0</td>\n",
       "      <td>3.455104</td>\n",
       "      <td>2013.0</td>\n",
       "      <td>0</td>\n",
       "      <td>3.476979</td>\n",
       "      <td>2013.0</td>\n",
       "      <td>...</td>\n",
       "      <td>3.394271</td>\n",
       "      <td>2013.0</td>\n",
       "      <td>0.03</td>\n",
       "      <td>3.474375</td>\n",
       "      <td>2013.0</td>\n",
       "      <td>0</td>\n",
       "      <td>3.502813</td>\n",
       "      <td>2013.0</td>\n",
       "      <td>0</td>\n",
       "      <td>3.445521</td>\n",
       "    </tr>\n",
       "    <tr>\n",
       "      <th>...</th>\n",
       "      <td>...</td>\n",
       "      <td>...</td>\n",
       "      <td>...</td>\n",
       "      <td>...</td>\n",
       "      <td>...</td>\n",
       "      <td>...</td>\n",
       "      <td>...</td>\n",
       "      <td>...</td>\n",
       "      <td>...</td>\n",
       "      <td>...</td>\n",
       "      <td>...</td>\n",
       "      <td>...</td>\n",
       "      <td>...</td>\n",
       "      <td>...</td>\n",
       "      <td>...</td>\n",
       "      <td>...</td>\n",
       "      <td>...</td>\n",
       "      <td>...</td>\n",
       "      <td>...</td>\n",
       "      <td>...</td>\n",
       "      <td>...</td>\n",
       "    </tr>\n",
       "    <tr>\n",
       "      <th>2023-06-23</th>\n",
       "      <td>2023.0</td>\n",
       "      <td>0</td>\n",
       "      <td>3.022465</td>\n",
       "      <td>2023.0</td>\n",
       "      <td>0.02</td>\n",
       "      <td>3.138819</td>\n",
       "      <td>2023.0</td>\n",
       "      <td>0</td>\n",
       "      <td>3.339583</td>\n",
       "      <td>2023.0</td>\n",
       "      <td>...</td>\n",
       "      <td>3.342083</td>\n",
       "      <td>2023.0</td>\n",
       "      <td>0.01</td>\n",
       "      <td>3.260729</td>\n",
       "      <td>2023.0</td>\n",
       "      <td>0</td>\n",
       "      <td>3.167604</td>\n",
       "      <td>2023.0</td>\n",
       "      <td>0</td>\n",
       "      <td>3.284722</td>\n",
       "    </tr>\n",
       "    <tr>\n",
       "      <th>2023-06-24</th>\n",
       "      <td>2023.0</td>\n",
       "      <td>0</td>\n",
       "      <td>2.987743</td>\n",
       "      <td>2023.0</td>\n",
       "      <td>0</td>\n",
       "      <td>3.022465</td>\n",
       "      <td>2023.0</td>\n",
       "      <td>0.02</td>\n",
       "      <td>3.138819</td>\n",
       "      <td>2023.0</td>\n",
       "      <td>...</td>\n",
       "      <td>3.287847</td>\n",
       "      <td>2023.0</td>\n",
       "      <td>0</td>\n",
       "      <td>3.342083</td>\n",
       "      <td>2023.0</td>\n",
       "      <td>0.01</td>\n",
       "      <td>3.260729</td>\n",
       "      <td>2023.0</td>\n",
       "      <td>0</td>\n",
       "      <td>3.167604</td>\n",
       "    </tr>\n",
       "    <tr>\n",
       "      <th>2023-06-25</th>\n",
       "      <td>2023.0</td>\n",
       "      <td>0.01</td>\n",
       "      <td>3.035521</td>\n",
       "      <td>2023.0</td>\n",
       "      <td>0</td>\n",
       "      <td>2.987743</td>\n",
       "      <td>2023.0</td>\n",
       "      <td>0</td>\n",
       "      <td>3.022465</td>\n",
       "      <td>2023.0</td>\n",
       "      <td>...</td>\n",
       "      <td>3.259097</td>\n",
       "      <td>2023.0</td>\n",
       "      <td>0</td>\n",
       "      <td>3.287847</td>\n",
       "      <td>2023.0</td>\n",
       "      <td>0</td>\n",
       "      <td>3.342083</td>\n",
       "      <td>2023.0</td>\n",
       "      <td>0.01</td>\n",
       "      <td>3.260729</td>\n",
       "    </tr>\n",
       "    <tr>\n",
       "      <th>2023-06-26</th>\n",
       "      <td>2023.0</td>\n",
       "      <td>0.01</td>\n",
       "      <td>3.145694</td>\n",
       "      <td>2023.0</td>\n",
       "      <td>0.01</td>\n",
       "      <td>3.035521</td>\n",
       "      <td>2023.0</td>\n",
       "      <td>0</td>\n",
       "      <td>2.987743</td>\n",
       "      <td>2023.0</td>\n",
       "      <td>...</td>\n",
       "      <td>3.154965</td>\n",
       "      <td>2023.0</td>\n",
       "      <td>0</td>\n",
       "      <td>3.259097</td>\n",
       "      <td>2023.0</td>\n",
       "      <td>0</td>\n",
       "      <td>3.287847</td>\n",
       "      <td>2023.0</td>\n",
       "      <td>0</td>\n",
       "      <td>3.342083</td>\n",
       "    </tr>\n",
       "    <tr>\n",
       "      <th>2023-06-27</th>\n",
       "      <td>2023.0</td>\n",
       "      <td>1.06</td>\n",
       "      <td>3.541250</td>\n",
       "      <td>2023.0</td>\n",
       "      <td>0.01</td>\n",
       "      <td>3.145694</td>\n",
       "      <td>2023.0</td>\n",
       "      <td>0.01</td>\n",
       "      <td>3.035521</td>\n",
       "      <td>2023.0</td>\n",
       "      <td>...</td>\n",
       "      <td>3.125417</td>\n",
       "      <td>2023.0</td>\n",
       "      <td>0</td>\n",
       "      <td>3.154965</td>\n",
       "      <td>2023.0</td>\n",
       "      <td>0</td>\n",
       "      <td>3.259097</td>\n",
       "      <td>2023.0</td>\n",
       "      <td>0</td>\n",
       "      <td>3.287847</td>\n",
       "    </tr>\n",
       "  </tbody>\n",
       "</table>\n",
       "<p>3525 rows × 111 columns</p>\n",
       "</div>"
      ],
      "text/plain": [
       "            var3(t+29) var2(t+29)  var1(t+29)  var3(t+28) var2(t+28)  \\\n",
       "Date                                                                   \n",
       "2013-10-30      2013.0          0    3.349687      2013.0          0   \n",
       "2013-10-31      2013.0          0    3.468646      2013.0          0   \n",
       "2013-11-01      2013.0          0    3.476979      2013.0          0   \n",
       "2013-11-02      2013.0          0    3.455104      2013.0          0   \n",
       "2013-11-03      2013.0       0.12    3.481563      2013.0          0   \n",
       "...                ...        ...         ...         ...        ...   \n",
       "2023-06-23      2023.0          0    3.022465      2023.0       0.02   \n",
       "2023-06-24      2023.0          0    2.987743      2023.0          0   \n",
       "2023-06-25      2023.0       0.01    3.035521      2023.0          0   \n",
       "2023-06-26      2023.0       0.01    3.145694      2023.0       0.01   \n",
       "2023-06-27      2023.0       1.06    3.541250      2023.0       0.01   \n",
       "\n",
       "            var1(t+28)  var3(t+27) var2(t+27)  var1(t+27)  var3(t+26)  ...  \\\n",
       "Date                                                                   ...   \n",
       "2013-10-30    3.336979      2013.0          0    3.070729      2013.0  ...   \n",
       "2013-10-31    3.349687      2013.0          0    3.336979      2013.0  ...   \n",
       "2013-11-01    3.468646      2013.0          0    3.349687      2013.0  ...   \n",
       "2013-11-02    3.476979      2013.0          0    3.468646      2013.0  ...   \n",
       "2013-11-03    3.455104      2013.0          0    3.476979      2013.0  ...   \n",
       "...                ...         ...        ...         ...         ...  ...   \n",
       "2023-06-23    3.138819      2023.0          0    3.339583      2023.0  ...   \n",
       "2023-06-24    3.022465      2023.0       0.02    3.138819      2023.0  ...   \n",
       "2023-06-25    2.987743      2023.0          0    3.022465      2023.0  ...   \n",
       "2023-06-26    3.035521      2023.0          0    2.987743      2023.0  ...   \n",
       "2023-06-27    3.145694      2023.0       0.01    3.035521      2023.0  ...   \n",
       "\n",
       "           var1(t-4)  var3(t-5)  var2(t-5) var1(t-5)  var3(t-6)  var2(t-6)  \\\n",
       "Date                                                                         \n",
       "2013-10-30  3.363437     2013.0          0  3.512083     2013.0          0   \n",
       "2013-10-31  3.445521     2013.0          0  3.363437     2013.0          0   \n",
       "2013-11-01  3.502813     2013.0          0  3.445521     2013.0          0   \n",
       "2013-11-02  3.474375     2013.0          0  3.502813     2013.0          0   \n",
       "2013-11-03  3.394271     2013.0       0.03  3.474375     2013.0          0   \n",
       "...              ...        ...        ...       ...        ...        ...   \n",
       "2023-06-23  3.342083     2023.0       0.01  3.260729     2023.0          0   \n",
       "2023-06-24  3.287847     2023.0          0  3.342083     2023.0       0.01   \n",
       "2023-06-25  3.259097     2023.0          0  3.287847     2023.0          0   \n",
       "2023-06-26  3.154965     2023.0          0  3.259097     2023.0          0   \n",
       "2023-06-27  3.125417     2023.0          0  3.154965     2023.0          0   \n",
       "\n",
       "           var1(t-6)  var3(t-7)  var2(t-7) var1(t-7)  \n",
       "Date                                                  \n",
       "2013-10-30  3.472708     2013.0          0  3.473590  \n",
       "2013-10-31  3.512083     2013.0          0  3.472708  \n",
       "2013-11-01  3.363437     2013.0          0  3.512083  \n",
       "2013-11-02  3.445521     2013.0          0  3.363437  \n",
       "2013-11-03  3.502813     2013.0          0  3.445521  \n",
       "...              ...        ...        ...       ...  \n",
       "2023-06-23  3.167604     2023.0          0  3.284722  \n",
       "2023-06-24  3.260729     2023.0          0  3.167604  \n",
       "2023-06-25  3.342083     2023.0       0.01  3.260729  \n",
       "2023-06-26  3.287847     2023.0          0  3.342083  \n",
       "2023-06-27  3.259097     2023.0          0  3.287847  \n",
       "\n",
       "[3525 rows x 111 columns]"
      ]
     },
     "execution_count": 1030,
     "metadata": {},
     "output_type": "execute_result"
    }
   ],
   "source": [
    "data"
   ]
  },
  {
   "cell_type": "code",
   "execution_count": null,
   "id": "519f7b1b-e05c-4b1d-b792-0fbaa26d2e86",
   "metadata": {},
   "outputs": [],
   "source": [
    "#NEW testing scale\n",
    "from sklearn import preprocessing as prep\n",
    "megascaler = prep.MinMaxScaler(feature_range=(0,1))\n",
    "scaleddata = megascaler.fit_transform(np.array(data).reshape(-1,1))\n",
    "scaleddata = scaleddata.reshape(3525,74)"
   ]
  },
  {
   "cell_type": "code",
   "execution_count": null,
   "id": "82b83fb6-1b10-4136-94ca-120d78be6ca3",
   "metadata": {},
   "outputs": [],
   "source": [
    "scaleddata = pd.DataFrame(scaleddata, columns=data.columns.values)"
   ]
  },
  {
   "cell_type": "code",
   "execution_count": null,
   "id": "3d5ce33e-5bab-476b-bc39-bc44c0660e76",
   "metadata": {},
   "outputs": [],
   "source": [
    "input2 = scaleddata.loc[:, 'var2(t-1)': 'var1(t-7)']\n",
    "output2 = scaleddata.loc[:, 'var1(t+29)': 'var1(t+29)':2]"
   ]
  },
  {
   "cell_type": "code",
   "execution_count": null,
   "id": "42fe2e42-32c7-4e1f-8050-d8fb0f13ed5c",
   "metadata": {},
   "outputs": [],
   "source": [
    "output2 = output2[output2.columns[::-1]]"
   ]
  },
  {
   "cell_type": "code",
   "execution_count": 1003,
   "id": "19cf101d-9bee-45db-9021-d652ad53ecd4",
   "metadata": {},
   "outputs": [],
   "source": [
    "#split into train and test sets\n",
    "end2 = len(scaleddata)-1\n",
    "learnend2 = int(end2*0.9)\n",
    "xtrain2 = input2[0:learnend2-1]\n",
    "ytrain2 = output2[0:learnend2-1]\n",
    "xtest2 = input2[learnend2:end2]\n",
    "ytest2 = output2[learnend2:end2]"
   ]
  },
  {
   "cell_type": "code",
   "execution_count": 884,
   "id": "6767a8e9-cc3d-4af0-ae3d-118f90a5674b",
   "metadata": {},
   "outputs": [
    {
     "data": {
      "text/plain": [
       "353"
      ]
     },
     "execution_count": 884,
     "metadata": {},
     "output_type": "execute_result"
    }
   ],
   "source": [
    "len(ytest2)"
   ]
  },
  {
   "cell_type": "code",
   "execution_count": 817,
   "id": "ba1b6d49-d3da-4ac9-9afc-11810576a570",
   "metadata": {},
   "outputs": [],
   "source": [
    "trainlength = xtrain2.shape[0]\n",
    "testlength = xtest2.shape[0]\n",
    "xrow = xtrain2.shape[1]\n",
    "yrow = ytrain2.shape[1]"
   ]
  },
  {
   "cell_type": "code",
   "execution_count": 878,
   "id": "cc876ed7-728f-43c2-9776-553aa5643a89",
   "metadata": {},
   "outputs": [
    {
     "data": {
      "text/plain": [
       "(3170, 7, 2)"
      ]
     },
     "execution_count": 878,
     "metadata": {},
     "output_type": "execute_result"
    }
   ],
   "source": [
    "xtrain2.shape"
   ]
  },
  {
   "cell_type": "code",
   "execution_count": 818,
   "id": "9ea7d8e5-eff2-4a87-ac4b-9135b4004cef",
   "metadata": {},
   "outputs": [],
   "source": [
    "#reshape into 3D arrays [samples, timesteps, features]\n",
    "xtrain2 = np.array(xtrain2).reshape((xtrain2.shape[0], n_days, n_features))\n",
    "xtest2 = np.array(xtest2).reshape((xtest2.shape[0], n_days, n_features))"
   ]
  },
  {
   "cell_type": "code",
   "execution_count": 821,
   "id": "285b797d-5e13-4a79-86b1-10310b030a70",
   "metadata": {},
   "outputs": [],
   "source": [
    "ytrain2 = np.array(ytrain2).reshape(trainlength,yrow)\n",
    "ytest2 = np.array(ytest2).reshape(testlength,yrow)"
   ]
  },
  {
   "cell_type": "code",
   "execution_count": 846,
   "id": "eb414247-0846-4995-ba3c-cca58252415e",
   "metadata": {},
   "outputs": [],
   "source": [
    "from keras.models import Sequential\n",
    "from keras.layers import Dense, Activation\n",
    "from keras.layers import LSTM\n",
    "#random seed to randomize model hyperparameters\n",
    "seed = 2016\n",
    "np.random.seed(seed)\n",
    "\n",
    "#specifiy model\n",
    "fit = Sequential()\n",
    "fit.add(LSTM(64, activation='tanh', recurrent_activation='hard_sigmoid', input_shape=(xtrain2.shape[1], xtrain2.shape[2])))\n",
    "#fit.add(LSTM(16, activation='tanh')) return_sequences=True, \n",
    "fit.add(Dense(1)) #output layer"
   ]
  },
  {
   "cell_type": "code",
   "execution_count": 847,
   "id": "36dede7e-aee5-490f-988a-c2ecb3b4618d",
   "metadata": {},
   "outputs": [],
   "source": [
    "fit.compile(loss=\"mean_squared_error\", optimizer=\"adam\") #adaptive learning rate"
   ]
  },
  {
   "cell_type": "code",
   "execution_count": 859,
   "id": "583af562-fc56-41f1-a3b5-0959fe095ac5",
   "metadata": {},
   "outputs": [
    {
     "name": "stdout",
     "output_type": "stream",
     "text": [
      "Epoch 1/20\n",
      "50/50 [==============================] - 0s 4ms/step - loss: 0.0162\n",
      "Epoch 2/20\n",
      "50/50 [==============================] - 0s 4ms/step - loss: 0.0162\n",
      "Epoch 3/20\n",
      "50/50 [==============================] - 0s 4ms/step - loss: 0.0163\n",
      "Epoch 4/20\n",
      "50/50 [==============================] - 0s 4ms/step - loss: 0.0163\n",
      "Epoch 5/20\n",
      "50/50 [==============================] - 0s 4ms/step - loss: 0.0162\n",
      "Epoch 6/20\n",
      "50/50 [==============================] - 0s 4ms/step - loss: 0.0163\n",
      "Epoch 7/20\n",
      "50/50 [==============================] - 0s 4ms/step - loss: 0.0162\n",
      "Epoch 8/20\n",
      "50/50 [==============================] - 0s 4ms/step - loss: 0.0162\n",
      "Epoch 9/20\n",
      "50/50 [==============================] - 0s 4ms/step - loss: 0.0162\n",
      "Epoch 10/20\n",
      "50/50 [==============================] - 0s 4ms/step - loss: 0.0162\n",
      "Epoch 11/20\n",
      "50/50 [==============================] - 0s 4ms/step - loss: 0.0161\n",
      "Epoch 12/20\n",
      "50/50 [==============================] - 0s 4ms/step - loss: 0.0162\n",
      "Epoch 13/20\n",
      "50/50 [==============================] - 0s 4ms/step - loss: 0.0164\n",
      "Epoch 14/20\n",
      "50/50 [==============================] - 0s 4ms/step - loss: 0.0164\n",
      "Epoch 15/20\n",
      "50/50 [==============================] - 0s 4ms/step - loss: 0.0163\n",
      "Epoch 16/20\n",
      "50/50 [==============================] - 0s 4ms/step - loss: 0.0162\n",
      "Epoch 17/20\n",
      "50/50 [==============================] - 0s 4ms/step - loss: 0.0161\n",
      "Epoch 18/20\n",
      "50/50 [==============================] - 0s 4ms/step - loss: 0.0161\n",
      "Epoch 19/20\n",
      "50/50 [==============================] - 0s 3ms/step - loss: 0.0161\n",
      "Epoch 20/20\n",
      "50/50 [==============================] - 0s 4ms/step - loss: 0.0161\n"
     ]
    },
    {
     "data": {
      "text/plain": [
       "<keras.src.callbacks.History at 0x198c64210>"
      ]
     },
     "execution_count": 859,
     "metadata": {},
     "output_type": "execute_result"
    }
   ],
   "source": [
    "#fit the model\n",
    "fit.fit(xtrain2, ytrain2, batch_size=64, epochs=20, shuffle=True)"
   ]
  },
  {
   "cell_type": "code",
   "execution_count": 860,
   "id": "e311bb79-7d60-41d9-8674-8dc8039f8b69",
   "metadata": {},
   "outputs": [
    {
     "name": "stdout",
     "output_type": "stream",
     "text": [
      "12/12 [==============================] - 0s 1ms/step\n"
     ]
    }
   ],
   "source": [
    "#forecast\n",
    "monthpred = fit.predict(xtest2)"
   ]
  },
  {
   "cell_type": "code",
   "execution_count": 861,
   "id": "13919663-e808-4127-9978-7a89f2ad5909",
   "metadata": {},
   "outputs": [],
   "source": [
    "#scale back to original values\n",
    "yinv2 = megascaler.inverse_transform(np.array(monthpred).reshape(-1,1))"
   ]
  },
  {
   "cell_type": "code",
   "execution_count": 862,
   "id": "8db682b7-fd3f-48f1-9bb2-8d415e8d2f9e",
   "metadata": {},
   "outputs": [],
   "source": [
    "yinv2 = yinv2.reshape(testlength,yrow)"
   ]
  },
  {
   "cell_type": "code",
   "execution_count": 875,
   "id": "494a7bde-182b-45a6-bcae-34f5faf31f51",
   "metadata": {},
   "outputs": [],
   "source": [
    "ans2 = megascaler.inverse_transform(np.array(ytest2).reshape(-1,1))"
   ]
  },
  {
   "cell_type": "code",
   "execution_count": 864,
   "id": "23517089-d4dc-492c-b352-de7e617edb4d",
   "metadata": {},
   "outputs": [],
   "source": [
    "ans2 = ans2.reshape(testlength,yrow)"
   ]
  },
  {
   "cell_type": "code",
   "execution_count": 870,
   "id": "d4b56894-7b05-4891-938d-2ba7d504fa2f",
   "metadata": {},
   "outputs": [
    {
     "data": {
      "text/plain": [
       "353"
      ]
     },
     "execution_count": 870,
     "metadata": {},
     "output_type": "execute_result"
    }
   ],
   "source": [
    "len(yinv2)"
   ]
  },
  {
   "cell_type": "code",
   "execution_count": 891,
   "id": "f45bde47-d0c4-4788-a115-823bd6853798",
   "metadata": {},
   "outputs": [],
   "source": [
    "ans2 = ans2.reshape(1,-1)[0]"
   ]
  },
  {
   "cell_type": "code",
   "execution_count": 872,
   "id": "3e82b5e9-85cd-40a4-9fcd-58f2a1693cd2",
   "metadata": {},
   "outputs": [],
   "source": [
    "yinv2 = yinv2.reshape(1,-1)[0]"
   ]
  },
  {
   "cell_type": "code",
   "execution_count": 961,
   "id": "0ecdea5e-ce2c-47b3-ab93-f11f9f053dc6",
   "metadata": {},
   "outputs": [
    {
     "data": {
      "text/plain": [
       "[<matplotlib.lines.Line2D at 0x15478ff90>]"
      ]
     },
     "execution_count": 961,
     "metadata": {},
     "output_type": "execute_result"
    },
    {
     "data": {
      "image/png": "[encoded data removed]",
      "text/plain": [
       "<Figure size 640x480 with 1 Axes>"
      ]
     },
     "metadata": {},
     "output_type": "display_data"
    }
   ],
   "source": [
    "plt.plot(ans2)\n",
    "plt.plot(yinv2)"
   ]
  },
  {
   "cell_type": "code",
   "execution_count": 892,
   "id": "53fbdeb6-03d7-4c39-a471-f3cf4e9ae5c0",
   "metadata": {},
   "outputs": [
    {
     "data": {
      "text/plain": [
       "array([ 3.49680147,  3.845     ,  3.71966667,  3.37231061,  3.265625  ,\n",
       "        3.63774704,  3.82479839,  3.77736607,  3.52895161,  3.3230303 ,\n",
       "        3.4559375 ,  3.70654167,  3.61767361,  3.38947581,  3.35871212,\n",
       "        3.41970588,  3.44933628,  3.42690972,  3.3584375 ,  3.43975694,\n",
       "        3.55736842,  3.91201923,  3.63176471,  3.30692857,  3.24203571,\n",
       "        3.33275   ,  3.35665179,  3.29319444,  3.31435345,  3.41735577,\n",
       "        3.37330882,  3.25820313,  3.24774194,  3.12935606,  3.234375  ,\n",
       "        3.31818548,  3.26575   ,  3.20173387,  3.26506925,  3.31050691,\n",
       "        3.24294118,  3.23168269,  3.28766129,  3.35819853,  3.36601852,\n",
       "        3.20067308,  3.18224265,  3.19935185,  3.245625  ,  3.26975694,\n",
       "        3.39506944,  3.54847222,  3.59118056,  3.56777778,  3.39854167,\n",
       "        3.22653846,  3.1638676 ,  3.19385417,  3.32895833,  3.5025    ,\n",
       "        3.5887218 ,  3.59159574,  3.36361111,  3.12829268,  3.08177083,\n",
       "        3.21375   ,  3.21573529,  3.34947917,  3.55420139,  3.61642361,\n",
       "        3.53295139,  3.48379182,  3.47643478,  3.50302083,  3.42549645,\n",
       "        3.29393617,  3.18929825,  3.24868794,  3.31415441,  3.36450382,\n",
       "        3.39830769,  3.46659722,  3.41090278,  3.31350694,  3.28319444,\n",
       "        3.29385417,  3.31027778,  3.41284722,  3.27519298,  3.25753472,\n",
       "        3.31291667,  3.35703333,  3.374375  ,  3.48111111,  3.55638889,\n",
       "        3.68581882,  3.50277778,  3.42875   ,  3.58694444,  3.658125  ,\n",
       "        3.72774306,  3.67361111,  3.41402778,  3.33083333,  3.11864583,\n",
       "        3.05648084,  3.35944444,  3.55486111,  3.75538194,  3.69326389,\n",
       "        3.68989583,  3.74034722,  3.70013889,  3.72857639,  3.53965278,\n",
       "        3.29458333,  2.90409722,  2.79597222,  2.77864583,  2.73145833,\n",
       "        2.80458333,  3.01680556,  3.17069444,  3.28590278,  3.2828125 ,\n",
       "        3.35517361,  3.45836806,  3.68451389,  3.70395833,  3.46909722,\n",
       "        3.31048611,  3.32604167,  3.3146875 ,  3.20888889,  2.9103125 ,\n",
       "        2.86684028,  2.9212892 ,  3.000625  ,  3.11677083,  3.3603125 ,\n",
       "        3.59567944,  3.60145833,  3.47625   ,  3.40350694,  3.51524306,\n",
       "        3.53416667,  3.569375  ,  3.54951389,  3.51159722,  3.474375  ,\n",
       "        3.4825    ,  3.42142361,  3.37333333,  3.38246528,  3.37138889,\n",
       "        3.35347222,  3.36173611,  3.40913194,  3.41798611,  3.39458333,\n",
       "        3.3871875 ,  3.33809028,  3.33274306,  3.38173611,  3.15916667,\n",
       "        3.06181185,  3.09322917,  3.06364583,  3.01083333,  3.10392361,\n",
       "        3.29850534,  3.42900826,  3.525     ,  3.51625874,  3.49538194,\n",
       "        3.49809028,  3.49260417,  3.44166667,  3.46721254,  3.55100694,\n",
       "        3.51522648,  3.36534722,  3.43440972,  3.50118056,  3.50711806,\n",
       "        3.51166667,  3.43472222,  3.3859375 ,  3.33329861,  3.35430556,\n",
       "        3.37284722,  3.46364583,  3.76611111,  3.60086806,  3.45802083,\n",
       "        3.38347222,  3.35322917,  3.31399306,  3.23881944,  3.23326389,\n",
       "        3.30197917,  3.35190972,  3.39131944,  3.45045139,  3.54673611,\n",
       "        3.57368056,  3.3871875 ,  3.29204861,  3.27819444,  3.32659722,\n",
       "        3.37548611,  3.45097222,  3.52385417,  3.49132404,  3.47324042,\n",
       "        3.49520833,  3.58190972,  3.55268116,  3.44173611,  3.44135417,\n",
       "        3.39309028,  3.41899306,  3.450625  ,  3.33315972,  3.19427083,\n",
       "        3.20629496,  3.55440972,  3.82986111,  3.5315625 ,  3.76111111,\n",
       "        4.12847222,  4.33364583,  4.24625   ,  4.19815972,  3.93045139,\n",
       "        3.83618705,  3.80667883,  4.19562963,  4.57139373,  4.68772727,\n",
       "        4.87625   ,  5.06767361,  4.94677083,  5.03114583,  5.18618056,\n",
       "        5.38673611,  5.78829861,  6.43934028,  7.39944444,  9.10506944,\n",
       "       10.58489583, 11.71614583, 12.78503472, 13.63395833, 14.51222222,\n",
       "       15.20642361, 16.07003472, 16.7421875 , 17.1959375 , 17.54690972,\n",
       "       17.80868056, 17.98663194, 18.04902778, 17.91954861, 17.58364583,\n",
       "       17.07607639, 16.43479167, 15.66822917, 14.93791667, 14.26611111,\n",
       "       13.56520833, 12.899375  , 12.28100694, 11.63965278, 11.03934028,\n",
       "       10.51291667, 10.11440972,  9.79267361,  9.54263889,  9.49944444,\n",
       "        9.6965625 ,  9.85552083, 10.39986111, 11.60857639, 12.94232639,\n",
       "       14.07368056, 14.72413194, 14.72028986, 14.22868056, 13.45826389,\n",
       "       12.51342657, 11.44770833, 10.35638889,  9.40427083,  8.52784722,\n",
       "        7.60760417,  6.63698246,  5.88163194,  5.36611111,  4.96416667,\n",
       "        4.77993056,  4.64006993,  4.45472222,  4.21972222,  4.16350694,\n",
       "        3.94371528,  3.78784722,  3.64552083,  3.71248227,  3.6411215 ,\n",
       "        3.58909408,  3.58555556,  3.48246528,  3.28472222,  3.16760417,\n",
       "        3.26072917,  3.34208333,  3.28784722,  3.25909722,  3.15496528,\n",
       "        3.12541667,  3.19392361,  3.3865625 ,  3.3428125 ,  3.34326389,\n",
       "        3.26350694,  3.17576389,  3.14604167,  3.0584375 ,  3.23996528,\n",
       "        3.35645833,  3.33625   ,  3.19659722,  3.02829861,  3.08354167,\n",
       "        3.124375  ,  3.12774306,  3.12121528,  3.13666667,  3.19732639,\n",
       "        3.13614583,  3.08427083,  3.05024306,  3.03166667,  3.04743056,\n",
       "        3.18086806,  3.30822917,  3.33958333,  3.13881944,  3.02246528,\n",
       "        2.98774306,  3.03552083,  3.14569444])"
      ]
     },
     "execution_count": 892,
     "metadata": {},
     "output_type": "execute_result"
    }
   ],
   "source": [
    "ans2"
   ]
  },
  {
   "cell_type": "code",
   "execution_count": 893,
   "id": "8f907d0e-c752-4339-a692-edfe348ce7ce",
   "metadata": {},
   "outputs": [
    {
     "data": {
      "image/png": "[encoded data removed]",
      "text/plain": [
       "<Figure size 640x480 with 1 Axes>"
      ]
     },
     "metadata": {},
     "output_type": "display_data"
    }
   ],
   "source": [
    "from matplotlib import pyplot as plt\n",
    "n_year = 30\n",
    "plt.plot(yinv2, label='Predicted values')\n",
    "plt.plot(ans2, label='Observed values')\n",
    "plt.xlabel(\"Date\")\n",
    "plt.ylabel(\"Water Level (inches)\")\n",
    "plt.legend()\n",
    "plt.show()"
   ]
  },
  {
   "cell_type": "code",
   "execution_count": 990,
   "id": "1e682104-b43c-4f37-9736-3080209d8b62",
   "metadata": {},
   "outputs": [],
   "source": [
    "from statsmodels.tsa.stattools import pacf, acf\n",
    "x_pacf=pacf(inputdata['Height'], nlags=30, method='ols')"
   ]
  },
  {
   "cell_type": "code",
   "execution_count": 999,
   "id": "6980b533-4eda-4052-9fad-8b1e82ac5170",
   "metadata": {},
   "outputs": [],
   "source": [
    "acorr = acf(inputdata['Height'], nlags=1000)"
   ]
  },
  {
   "cell_type": "code",
   "execution_count": 1002,
   "id": "e29a00dd-3286-419f-ba98-262ec57174af",
   "metadata": {},
   "outputs": [
    {
     "data": {
      "text/plain": [
       "array([1.        , 0.99563842, 0.98492529, 0.96945811, 0.9501602 ,\n",
       "       0.92794723, 0.90374089, 0.87835565, 0.85245866, 0.82680999,\n",
       "       0.80195029, 0.77818722, 0.75572242, 0.73456037, 0.71457287,\n",
       "       0.6957031 , 0.67778728, 0.66061865, 0.64399645, 0.62767955])"
      ]
     },
     "execution_count": 1002,
     "metadata": {},
     "output_type": "execute_result"
    }
   ],
   "source": [
    "acorr[:20]"
   ]
  },
  {
   "cell_type": "code",
   "execution_count": 1000,
   "id": "ffb53426-d77b-41f6-a0e3-31ff2b2a8e77",
   "metadata": {},
   "outputs": [
    {
     "data": {
      "text/plain": [
       "[<matplotlib.lines.Line2D at 0x1936f2790>]"
      ]
     },
     "execution_count": 1000,
     "metadata": {},
     "output_type": "execute_result"
    },
    {
     "data": {
      "image/png": "[encoded data removed]",
      "text/plain": [
       "<Figure size 640x480 with 1 Axes>"
      ]
     },
     "metadata": {},
     "output_type": "display_data"
    }
   ],
   "source": [
    "plt.plot(acorr)"
   ]
  },
  {
   "cell_type": "code",
   "execution_count": 977,
   "id": "24d589e6-0466-4bd1-8f19-a8953d0883f0",
   "metadata": {},
   "outputs": [
    {
     "data": {
      "text/plain": [
       "array([ 1.        ,  0.99573998, -0.74777972, -0.0260564 , -0.0833911 ])"
      ]
     },
     "execution_count": 977,
     "metadata": {},
     "output_type": "execute_result"
    }
   ],
   "source": [
    "x_pacf[0:5]"
   ]
  },
  {
   "cell_type": "code",
   "execution_count": 987,
   "id": "f0028374-0c00-4daf-8aae-186b727a32b0",
   "metadata": {},
   "outputs": [
    {
     "data": {
      "text/plain": [
       "[<matplotlib.lines.Line2D at 0x18d3784d0>]"
      ]
     },
     "execution_count": 987,
     "metadata": {},
     "output_type": "execute_result"
    },
    {
     "data": {
      "image/png": "[encoded data removed]",
      "text/plain": [
       "<Figure size 640x480 with 1 Axes>"
      ]
     },
     "metadata": {},
     "output_type": "display_data"
    }
   ],
   "source": [
    "plt.plot(x_pacf)"
   ]
  },
  {
   "cell_type": "code",
   "execution_count": 886,
   "id": "db730df6-bb51-4721-8a19-5af26bb2f7c4",
   "metadata": {},
   "outputs": [
    {
     "data": {
      "text/plain": [
       "3.202412656605672"
      ]
     },
     "execution_count": 886,
     "metadata": {},
     "output_type": "execute_result"
    }
   ],
   "source": [
    "import math\n",
    "from sklearn.metrics import mean_squared_error as mse\n",
    "eval = mse(ans2, yinv2)\n",
    "math.sqrt(eval)"
   ]
  },
  {
   "cell_type": "code",
   "execution_count": null,
   "id": "77f24a33-f83a-4d91-8290-08aaefa5ce40",
   "metadata": {},
   "outputs": [],
   "source": [
    "TRIAL 2 - predict one month lead time"
   ]
  },
  {
   "cell_type": "code",
   "execution_count": 514,
   "id": "09425ec8-b02e-4949-bf9a-45793eb7896e",
   "metadata": {},
   "outputs": [],
   "source": [
    "#separate input and output\n",
    "output = data.loc[:, 'var1(t+29)'] \n",
    "input = data.loc[:, 'var2(t-1)': 'var1(t-3)']"
   ]
  },
  {
   "cell_type": "code",
   "execution_count": 515,
   "id": "f959ad18-fd38-4704-a75f-ce25d2475bdd",
   "metadata": {
    "scrolled": true
   },
   "outputs": [
    {
     "data": {
      "text/plain": [
       "Date\n",
       "2013-10-30    3.349687\n",
       "2013-10-31    3.468646\n",
       "2013-11-01    3.476979\n",
       "2013-11-02    3.455104\n",
       "2013-11-03    3.481563\n",
       "Name: var1(t+29), dtype: float64"
      ]
     },
     "execution_count": 515,
     "metadata": {},
     "output_type": "execute_result"
    }
   ],
   "source": [
    "output.head()"
   ]
  },
  {
   "cell_type": "code",
   "execution_count": 516,
   "id": "33684011-dfef-46f8-a723-df58f1833e8f",
   "metadata": {},
   "outputs": [],
   "source": [
    "#split into train and test sets\n",
    "end = len(data)-1\n",
    "learnend = int(end*0.8)\n",
    "xtrain = input[0:learnend-1]\n",
    "ytrain = output[0:learnend-1]\n",
    "xtest = input[learnend:end]\n",
    "ytest = output[learnend:end]"
   ]
  },
  {
   "cell_type": "code",
   "execution_count": 517,
   "id": "67cf1a6e-ca76-43e0-b7cb-4b0bd79c5e18",
   "metadata": {},
   "outputs": [
    {
     "data": {
      "text/plain": [
       "(2818, 6)"
      ]
     },
     "execution_count": 517,
     "metadata": {},
     "output_type": "execute_result"
    }
   ],
   "source": [
    "xtrain.shape"
   ]
  },
  {
   "cell_type": "code",
   "execution_count": 518,
   "id": "50fc9863-8ae0-42e0-8e9d-2add3b8b8f24",
   "metadata": {},
   "outputs": [
    {
     "data": {
      "text/plain": [
       "(705, 6)"
      ]
     },
     "execution_count": 518,
     "metadata": {},
     "output_type": "execute_result"
    }
   ],
   "source": [
    "xtest.shape"
   ]
  },
  {
   "cell_type": "code",
   "execution_count": 519,
   "id": "2d4729b0-af21-4995-8cfe-ce3f1aa93220",
   "metadata": {},
   "outputs": [
    {
     "data": {
      "text/plain": [
       "(2818,)"
      ]
     },
     "execution_count": 519,
     "metadata": {},
     "output_type": "execute_result"
    }
   ],
   "source": [
    "ytrain.shape"
   ]
  },
  {
   "cell_type": "code",
   "execution_count": 520,
   "id": "fdeaa4ce-e50b-42ab-8c9c-b71e81e541eb",
   "metadata": {},
   "outputs": [
    {
     "data": {
      "text/plain": [
       "(705,)"
      ]
     },
     "execution_count": 520,
     "metadata": {},
     "output_type": "execute_result"
    }
   ],
   "source": [
    "ytest.shape"
   ]
  },
  {
   "cell_type": "code",
   "execution_count": 521,
   "id": "28367075-486e-4fdf-a53f-d3b3a4516e4b",
   "metadata": {},
   "outputs": [],
   "source": [
    "from sklearn import preprocessing as prep\n",
    "scaler1 = prep.MinMaxScaler(feature_range=(0,1))\n",
    "xtrain = scaler1.fit_transform(np.array(xtrain).reshape(-1,1))\n",
    "xtest = scaler1.transform(np.array(xtest).reshape(-1,1))\n",
    "scaler2 = prep.MinMaxScaler(feature_range=(0,1))\n",
    "ytrain = scaler2.fit_transform(np.array(ytrain).reshape(-1,1))\n",
    "ytest = scaler2.transform(np.array(ytest).reshape(-1,1))"
   ]
  },
  {
   "cell_type": "code",
   "execution_count": 522,
   "id": "0eb05167-674c-4638-86f2-ff769fcc4e5b",
   "metadata": {},
   "outputs": [],
   "source": [
    "xtrain = xtrain.reshape(2818,6)\n",
    "xtest = xtest.reshape(705,6)"
   ]
  },
  {
   "cell_type": "code",
   "execution_count": 524,
   "id": "bf4a6110-2708-42b7-9d50-bcd35cb68f3c",
   "metadata": {},
   "outputs": [],
   "source": [
    "#reshape into 3D arrays [samples, timesteps, features]\n",
    "xtrain = xtrain.reshape((xtrain.shape[0], 3, n_features))\n",
    "xtest = xtest.reshape((xtest.shape[0], 3, n_features))"
   ]
  },
  {
   "cell_type": "code",
   "execution_count": 525,
   "id": "ab54ce97-daea-4d91-a889-96e8d1c21c54",
   "metadata": {},
   "outputs": [],
   "source": [
    "from keras.models import Sequential\n",
    "from keras.layers import Dense, Activation\n",
    "from keras.layers import LSTM"
   ]
  },
  {
   "cell_type": "code",
   "execution_count": 526,
   "id": "da3f2bb0-25f1-4089-8083-741b22db4049",
   "metadata": {},
   "outputs": [],
   "source": [
    "#random seed to randomize model hyperparameters\n",
    "seed = 2016\n",
    "np.random.seed(seed)\n",
    "\n",
    "#specifiy model\n",
    "fit2 = Sequential()\n",
    "fit2.add(LSTM(80, activation='tanh', recurrent_activation='hard_sigmoid', input_shape=(xtrain.shape[1], xtrain.shape[2])))\n",
    "fit2.add(Dense(1, activation='linear')) #output layer"
   ]
  },
  {
   "cell_type": "code",
   "execution_count": 527,
   "id": "07b301d8-8a53-4224-b278-7bb5d1bc203a",
   "metadata": {},
   "outputs": [],
   "source": [
    "fit2.compile(loss=\"mean_squared_error\", optimizer=\"rmsprop\") #adaptive learning rate"
   ]
  },
  {
   "cell_type": "code",
   "execution_count": 528,
   "id": "bb4a9392-93cb-4a4b-8a1c-54542d185a7a",
   "metadata": {},
   "outputs": [
    {
     "name": "stdout",
     "output_type": "stream",
     "text": [
      "Epoch 1/20\n",
      "45/45 [==============================] - 1s 3ms/step - loss: 0.0259\n",
      "Epoch 2/20\n",
      "45/45 [==============================] - 0s 2ms/step - loss: 0.0242\n",
      "Epoch 3/20\n",
      "45/45 [==============================] - 0s 2ms/step - loss: 0.0238\n",
      "Epoch 4/20\n",
      "45/45 [==============================] - 0s 2ms/step - loss: 0.0238\n",
      "Epoch 5/20\n",
      "45/45 [==============================] - 0s 2ms/step - loss: 0.0237\n",
      "Epoch 6/20\n",
      "45/45 [==============================] - 0s 2ms/step - loss: 0.0238\n",
      "Epoch 7/20\n",
      "45/45 [==============================] - 0s 3ms/step - loss: 0.0237\n",
      "Epoch 8/20\n",
      "45/45 [==============================] - 0s 2ms/step - loss: 0.0237\n",
      "Epoch 9/20\n",
      "45/45 [==============================] - 0s 2ms/step - loss: 0.0236\n",
      "Epoch 10/20\n",
      "45/45 [==============================] - 0s 2ms/step - loss: 0.0237\n",
      "Epoch 11/20\n",
      "45/45 [==============================] - 0s 2ms/step - loss: 0.0237\n",
      "Epoch 12/20\n",
      "45/45 [==============================] - 0s 2ms/step - loss: 0.0237\n",
      "Epoch 13/20\n",
      "45/45 [==============================] - 0s 2ms/step - loss: 0.0236\n",
      "Epoch 14/20\n",
      "45/45 [==============================] - 0s 2ms/step - loss: 0.0237\n",
      "Epoch 15/20\n",
      "45/45 [==============================] - 0s 2ms/step - loss: 0.0236\n",
      "Epoch 16/20\n",
      "45/45 [==============================] - 0s 2ms/step - loss: 0.0236\n",
      "Epoch 17/20\n",
      "45/45 [==============================] - 0s 2ms/step - loss: 0.0236\n",
      "Epoch 18/20\n",
      "45/45 [==============================] - 0s 2ms/step - loss: 0.0237\n",
      "Epoch 19/20\n",
      "45/45 [==============================] - 0s 2ms/step - loss: 0.0236\n",
      "Epoch 20/20\n",
      "45/45 [==============================] - 0s 2ms/step - loss: 0.0236\n"
     ]
    },
    {
     "data": {
      "text/plain": [
       "<keras.src.callbacks.History at 0x150d3efd0>"
      ]
     },
     "execution_count": 528,
     "metadata": {},
     "output_type": "execute_result"
    }
   ],
   "source": [
    "#fit the model\n",
    "fit2.fit(xtrain, ytrain, batch_size=64, epochs=20, shuffle=True)"
   ]
  },
  {
   "cell_type": "code",
   "execution_count": 529,
   "id": "05029eb2-df25-4bc3-9cd6-9d15d157bb2d",
   "metadata": {},
   "outputs": [
    {
     "name": "stdout",
     "output_type": "stream",
     "text": [
      "23/23 [==============================] - 0s 1ms/step\n"
     ]
    }
   ],
   "source": [
    "#forecast\n",
    "ypred = fit2.predict(xtest)"
   ]
  },
  {
   "cell_type": "code",
   "execution_count": 530,
   "id": "74661592-36db-431d-99bd-e6d4da71f70c",
   "metadata": {},
   "outputs": [],
   "source": [
    "#scale back to original values\n",
    "yinv = scaler2.inverse_transform(np.array(ypred).reshape(-1,1))"
   ]
  },
  {
   "cell_type": "code",
   "execution_count": 35,
   "id": "abe8379c-a389-4508-9ef7-a0f62270f17c",
   "metadata": {},
   "outputs": [
    {
     "data": {
      "text/plain": [
       "699"
      ]
     },
     "execution_count": 35,
     "metadata": {},
     "output_type": "execute_result"
    }
   ],
   "source": [
    "len(yinv)"
   ]
  },
  {
   "cell_type": "code",
   "execution_count": 37,
   "id": "9b432da4-0c64-4b70-a8c4-ee10c94c0a1f",
   "metadata": {},
   "outputs": [
    {
     "data": {
      "text/plain": [
       "699"
      ]
     },
     "execution_count": 37,
     "metadata": {},
     "output_type": "execute_result"
    }
   ],
   "source": [
    "len(ytest)"
   ]
  },
  {
   "cell_type": "code",
   "execution_count": 102,
   "id": "d6fffab3-7e75-45d1-b2e8-ea25f6929a4d",
   "metadata": {},
   "outputs": [
    {
     "data": {
      "text/plain": [
       "array([[0.0425189 ],\n",
       "       [0.04104262],\n",
       "       [0.04398627],\n",
       "       ...,\n",
       "       [0.03074685],\n",
       "       [0.03535597],\n",
       "       [0.03532988]])"
      ]
     },
     "execution_count": 102,
     "metadata": {},
     "output_type": "execute_result"
    }
   ],
   "source": [
    "ytest"
   ]
  },
  {
   "cell_type": "code",
   "execution_count": 531,
   "id": "c71f947c-08a3-48a9-9126-55b3e4709458",
   "metadata": {},
   "outputs": [
    {
     "data": {
      "text/plain": [
       "array([[ 2.97875   ],\n",
       "       [ 3.06010417],\n",
       "       [ 3.145     ],\n",
       "       [ 3.24333333],\n",
       "       [ 3.22072917],\n",
       "       [ 3.22197917],\n",
       "       [ 3.29364583],\n",
       "       [ 3.62395833],\n",
       "       [ 3.671625  ],\n",
       "       [ 3.40291667],\n",
       "       [ 3.67395833],\n",
       "       [ 3.198125  ],\n",
       "       [ 3.1884375 ],\n",
       "       [ 3.23510417],\n",
       "       [ 3.28375   ],\n",
       "       [ 3.32895833],\n",
       "       [ 3.30697917],\n",
       "       [ 3.44802083],\n",
       "       [ 3.200625  ],\n",
       "       [ 3.0425    ],\n",
       "       [ 2.92395833],\n",
       "       [ 3.06958333],\n",
       "       [ 3.29978261],\n",
       "       [ 3.434375  ],\n",
       "       [ 3.29572917],\n",
       "       [ 3.16458333],\n",
       "       [ 2.97697917],\n",
       "       [ 2.99052083],\n",
       "       [ 3.20864583],\n",
       "       [ 3.30115789],\n",
       "       [ 3.40427083],\n",
       "       [ 3.40104167],\n",
       "       [ 3.4978125 ],\n",
       "       [ 3.47947917],\n",
       "       [ 3.32333333],\n",
       "       [ 3.28916667],\n",
       "       [ 3.26802083],\n",
       "       [ 3.30916667],\n",
       "       [ 3.42541667],\n",
       "       [ 3.46958333],\n",
       "       [ 3.38354167],\n",
       "       [ 3.30645833],\n",
       "       [ 3.27125   ],\n",
       "       [ 3.33135417],\n",
       "       [ 3.25920455],\n",
       "       [ 3.166125  ],\n",
       "       [ 3.2046875 ],\n",
       "       [ 3.38947917],\n",
       "       [ 3.41641304],\n",
       "       [ 3.21614583],\n",
       "       [ 3.14114583],\n",
       "       [ 3.21895833],\n",
       "       [ 3.26875   ],\n",
       "       [ 3.33583333],\n",
       "       [ 3.37041667],\n",
       "       [ 3.36822917],\n",
       "       [ 3.30447917],\n",
       "       [ 3.37885417],\n",
       "       [ 3.37697917],\n",
       "       [ 3.22572917],\n",
       "       [ 3.26260417],\n",
       "       [ 3.32739583],\n",
       "       [ 3.27489583],\n",
       "       [ 3.2240625 ],\n",
       "       [ 3.2740625 ],\n",
       "       [ 3.44072917],\n",
       "       [ 3.52677083],\n",
       "       [ 3.438125  ],\n",
       "       [ 3.32052083],\n",
       "       [ 3.26302083],\n",
       "       [ 3.371875  ],\n",
       "       [ 3.46416667],\n",
       "       [ 3.50489583],\n",
       "       [ 3.5409375 ],\n",
       "       [ 3.59802083],\n",
       "       [ 3.61510417],\n",
       "       [ 3.82395833],\n",
       "       [ 3.93072917],\n",
       "       [ 3.79625   ],\n",
       "       [ 3.76260417],\n",
       "       [ 3.74572917],\n",
       "       [ 3.648125  ],\n",
       "       [ 3.5927    ],\n",
       "       [ 3.61146341],\n",
       "       [ 3.64980392],\n",
       "       [ 3.67927083],\n",
       "       [ 3.63489583],\n",
       "       [ 3.63236559],\n",
       "       [ 3.70378947],\n",
       "       [ 3.6009375 ],\n",
       "       [ 3.50520833],\n",
       "       [ 3.58541667],\n",
       "       [ 3.51666667],\n",
       "       [ 3.35020833],\n",
       "       [ 3.24885417],\n",
       "       [ 3.41697917],\n",
       "       [ 3.44739583],\n",
       "       [ 3.4484375 ],\n",
       "       [ 3.40666667],\n",
       "       [ 3.2365625 ],\n",
       "       [ 3.11697917],\n",
       "       [ 3.23260417],\n",
       "       [ 3.52020833],\n",
       "       [ 3.53510417],\n",
       "       [ 3.58302083],\n",
       "       [ 3.5703125 ],\n",
       "       [ 3.52708333],\n",
       "       [ 3.52416667],\n",
       "       [ 3.2925    ],\n",
       "       [ 3.03833333],\n",
       "       [ 2.77770833],\n",
       "       [ 3.07145833],\n",
       "       [ 3.48239583],\n",
       "       [ 3.716875  ],\n",
       "       [ 3.7815625 ],\n",
       "       [ 3.51979167],\n",
       "       [ 3.39166667],\n",
       "       [ 3.513125  ],\n",
       "       [ 3.7528125 ],\n",
       "       [ 3.8884375 ],\n",
       "       [ 3.72427083],\n",
       "       [ 3.605625  ],\n",
       "       [ 3.42322917],\n",
       "       [ 3.44270833],\n",
       "       [ 3.34541667],\n",
       "       [ 3.20677083],\n",
       "       [ 3.40010417],\n",
       "       [ 3.66510417],\n",
       "       [ 3.70427083],\n",
       "       [ 3.74344086],\n",
       "       [ 3.65876404],\n",
       "       [ 3.42885417],\n",
       "       [ 3.4640625 ],\n",
       "       [ 3.54041667],\n",
       "       [ 3.60427083],\n",
       "       [ 3.48489583],\n",
       "       [ 3.50677083],\n",
       "       [ 3.61256944],\n",
       "       [ 3.74663194],\n",
       "       [ 3.70340426],\n",
       "       [ 3.44041667],\n",
       "       [ 3.24881944],\n",
       "       [ 3.24996528],\n",
       "       [ 3.20440972],\n",
       "       [ 3.17621528],\n",
       "       [ 3.27826389],\n",
       "       [ 3.26027778],\n",
       "       [ 3.17590278],\n",
       "       [ 3.07045139],\n",
       "       [ 3.15986111],\n",
       "       [ 3.28802083],\n",
       "       [ 3.41326389],\n",
       "       [ 3.26826389],\n",
       "       [ 2.98670139],\n",
       "       [ 3.01475694],\n",
       "       [ 3.15440972],\n",
       "       [ 3.34475177],\n",
       "       [ 3.411875  ],\n",
       "       [ 3.15084507],\n",
       "       [ 2.82333333],\n",
       "       [ 2.808125  ],\n",
       "       [ 3.19333333],\n",
       "       [ 3.52888889],\n",
       "       [ 3.67520833],\n",
       "       [ 3.51222222],\n",
       "       [ 3.30871528],\n",
       "       [ 3.24361111],\n",
       "       [ 3.2153125 ],\n",
       "       [ 3.24409722],\n",
       "       [ 3.17489583],\n",
       "       [ 3.1214539 ],\n",
       "       [ 3.2159375 ],\n",
       "       [ 3.25559028],\n",
       "       [ 3.26916667],\n",
       "       [ 3.3662766 ],\n",
       "       [ 3.34255319],\n",
       "       [ 3.32770833],\n",
       "       [ 3.26673835],\n",
       "       [ 3.30145833],\n",
       "       [ 3.28951389],\n",
       "       [ 3.25274306],\n",
       "       [ 3.25819444],\n",
       "       [ 3.27267361],\n",
       "       [ 3.21204861],\n",
       "       [ 3.23916667],\n",
       "       [ 3.29996441],\n",
       "       [ 3.32416667],\n",
       "       [ 3.29934028],\n",
       "       [ 3.32288194],\n",
       "       [ 3.37618056],\n",
       "       [ 3.38791667],\n",
       "       [ 3.40229167],\n",
       "       [ 3.41173611],\n",
       "       [ 3.415625  ],\n",
       "       [ 3.28920139],\n",
       "       [ 3.22440972],\n",
       "       [ 3.35826389],\n",
       "       [ 3.48184028],\n",
       "       [ 3.45642361],\n",
       "       [ 3.24642361],\n",
       "       [ 3.39269784],\n",
       "       [ 3.51819444],\n",
       "       [ 3.50246528],\n",
       "       [ 3.38399293],\n",
       "       [ 3.37673611],\n",
       "       [ 3.26851449],\n",
       "       [ 3.22326389],\n",
       "       [ 3.41767361],\n",
       "       [ 3.70545139],\n",
       "       [ 3.41503472],\n",
       "       [ 3.4609375 ],\n",
       "       [ 3.633125  ],\n",
       "       [ 3.77402778],\n",
       "       [ 3.95142361],\n",
       "       [ 4.2488764 ],\n",
       "       [ 4.46973958],\n",
       "       [ 4.68132616],\n",
       "       [ 5.27482639],\n",
       "       [ 5.42347222],\n",
       "       [ 5.79027778],\n",
       "       [ 6.08634752],\n",
       "       [ 6.33425926],\n",
       "       [ 6.20829016],\n",
       "       [ 5.89419847],\n",
       "       [ 5.71352657],\n",
       "       [ 5.51756522],\n",
       "       [ 5.23008696],\n",
       "       [ 5.11639344],\n",
       "       [ 5.07766169],\n",
       "       [ 5.13194444],\n",
       "       [ 5.35985612],\n",
       "       [ 5.72408451],\n",
       "       [ 5.95659722],\n",
       "       [ 6.13235507],\n",
       "       [ 6.35527778],\n",
       "       [ 6.425     ],\n",
       "       [ 6.81263889],\n",
       "       [ 7.03967626],\n",
       "       [ 6.95215278],\n",
       "       [ 6.85847222],\n",
       "       [ 7.00485612],\n",
       "       [ 6.99237548],\n",
       "       [ 6.92993056],\n",
       "       [ 6.89455197],\n",
       "       [ 6.81645833],\n",
       "       [ 6.74229167],\n",
       "       [ 6.7867029 ],\n",
       "       [ 7.08579861],\n",
       "       [ 7.18586806],\n",
       "       [ 7.33836806],\n",
       "       [ 7.42905797],\n",
       "       [ 7.47638889],\n",
       "       [ 7.434375  ],\n",
       "       [ 7.56557143],\n",
       "       [ 7.80760417],\n",
       "       [ 8.29207273],\n",
       "       [ 8.73442446],\n",
       "       [ 9.05993056],\n",
       "       [ 9.23895833],\n",
       "       [ 9.29338235],\n",
       "       [ 9.25828571],\n",
       "       [ 9.07159722],\n",
       "       [ 8.88047101],\n",
       "       [ 8.6765    ],\n",
       "       [ 8.55313869],\n",
       "       [ 9.15299242],\n",
       "       [ 9.64850694],\n",
       "       [10.7548913 ],\n",
       "       [11.5253125 ],\n",
       "       [11.98864583],\n",
       "       [12.38618705],\n",
       "       [12.76435737],\n",
       "       [13.09190647],\n",
       "       [13.23625   ],\n",
       "       [13.19864583],\n",
       "       [13.22485612],\n",
       "       [13.20371528],\n",
       "       [13.04163194],\n",
       "       [12.85188841],\n",
       "       [12.44471795],\n",
       "       [11.9569685 ],\n",
       "       [11.4783209 ],\n",
       "       [10.98643382],\n",
       "       [10.53255245],\n",
       "       [10.1702008 ],\n",
       "       [ 9.89475694],\n",
       "       [ 9.72486014],\n",
       "       [ 9.57757143],\n",
       "       [ 9.45776224],\n",
       "       [ 9.35291971],\n",
       "       [ 9.21154676],\n",
       "       [ 8.95571942],\n",
       "       [ 8.68695804],\n",
       "       [ 8.45296029],\n",
       "       [ 8.16105263],\n",
       "       [ 7.81031469],\n",
       "       [ 7.59559441],\n",
       "       [ 7.34879562],\n",
       "       [ 7.11944056],\n",
       "       [ 6.91597826],\n",
       "       [ 6.8448951 ],\n",
       "       [ 6.84656934],\n",
       "       [ 6.66776224],\n",
       "       [ 6.42097902],\n",
       "       [ 6.01436364],\n",
       "       [ 5.68076923],\n",
       "       [ 5.45548951],\n",
       "       [ 5.19657343],\n",
       "       [ 4.97436681],\n",
       "       [ 5.40877273],\n",
       "       [ 5.49307692],\n",
       "       [ 5.84793103],\n",
       "       [ 5.8782381 ],\n",
       "       [ 5.57645985],\n",
       "       [ 5.16671329],\n",
       "       [ 4.94819328],\n",
       "       [ 4.85443089],\n",
       "       [ 4.62219697],\n",
       "       [ 4.51046512],\n",
       "       [ 4.36620513],\n",
       "       [ 4.16234266],\n",
       "       [ 4.10797203],\n",
       "       [ 4.15642276],\n",
       "       [ 4.47344186],\n",
       "       [ 4.66970909],\n",
       "       [ 4.5698556 ],\n",
       "       [ 4.36114583],\n",
       "       [ 4.18781609],\n",
       "       [ 3.94669291],\n",
       "       [ 3.92329843],\n",
       "       [ 3.74244898],\n",
       "       [ 3.64401747],\n",
       "       [ 3.56219409],\n",
       "       [ 3.56118421],\n",
       "       [ 3.37042373],\n",
       "       [ 3.42975904],\n",
       "       [ 3.5267713 ],\n",
       "       [ 3.49143382],\n",
       "       [ 3.41034091],\n",
       "       [ 3.32840278],\n",
       "       [ 3.34932271],\n",
       "       [ 3.42953704],\n",
       "       [ 3.65207373],\n",
       "       [ 3.5758871 ],\n",
       "       [ 3.43651515],\n",
       "       [ 3.39848485],\n",
       "       [ 3.41166667],\n",
       "       [ 3.51728045],\n",
       "       [ 3.48836806],\n",
       "       [ 3.42848214],\n",
       "       [ 3.36301471],\n",
       "       [ 3.37261719],\n",
       "       [ 3.49680147],\n",
       "       [ 3.845     ],\n",
       "       [ 3.71966667],\n",
       "       [ 3.37231061],\n",
       "       [ 3.265625  ],\n",
       "       [ 3.63774704],\n",
       "       [ 3.82479839],\n",
       "       [ 3.77736607],\n",
       "       [ 3.52895161],\n",
       "       [ 3.3230303 ],\n",
       "       [ 3.4559375 ],\n",
       "       [ 3.70654167],\n",
       "       [ 3.61767361],\n",
       "       [ 3.38947581],\n",
       "       [ 3.35871212],\n",
       "       [ 3.41970588],\n",
       "       [ 3.44933628],\n",
       "       [ 3.42690972],\n",
       "       [ 3.3584375 ],\n",
       "       [ 3.43975694],\n",
       "       [ 3.55736842],\n",
       "       [ 3.91201923],\n",
       "       [ 3.63176471],\n",
       "       [ 3.30692857],\n",
       "       [ 3.24203571],\n",
       "       [ 3.33275   ],\n",
       "       [ 3.35665179],\n",
       "       [ 3.29319444],\n",
       "       [ 3.31435345],\n",
       "       [ 3.41735577],\n",
       "       [ 3.37330882],\n",
       "       [ 3.25820313],\n",
       "       [ 3.24774194],\n",
       "       [ 3.12935606],\n",
       "       [ 3.234375  ],\n",
       "       [ 3.31818548],\n",
       "       [ 3.26575   ],\n",
       "       [ 3.20173387],\n",
       "       [ 3.26506925],\n",
       "       [ 3.31050691],\n",
       "       [ 3.24294118],\n",
       "       [ 3.23168269],\n",
       "       [ 3.28766129],\n",
       "       [ 3.35819853],\n",
       "       [ 3.36601852],\n",
       "       [ 3.20067308],\n",
       "       [ 3.18224265],\n",
       "       [ 3.19935185],\n",
       "       [ 3.245625  ],\n",
       "       [ 3.26975694],\n",
       "       [ 3.39506944],\n",
       "       [ 3.54847222],\n",
       "       [ 3.59118056],\n",
       "       [ 3.56777778],\n",
       "       [ 3.39854167],\n",
       "       [ 3.22653846],\n",
       "       [ 3.1638676 ],\n",
       "       [ 3.19385417],\n",
       "       [ 3.32895833],\n",
       "       [ 3.5025    ],\n",
       "       [ 3.5887218 ],\n",
       "       [ 3.59159574],\n",
       "       [ 3.36361111],\n",
       "       [ 3.12829268],\n",
       "       [ 3.08177083],\n",
       "       [ 3.21375   ],\n",
       "       [ 3.21573529],\n",
       "       [ 3.34947917],\n",
       "       [ 3.55420139],\n",
       "       [ 3.61642361],\n",
       "       [ 3.53295139],\n",
       "       [ 3.48379182],\n",
       "       [ 3.47643478],\n",
       "       [ 3.50302083],\n",
       "       [ 3.42549645],\n",
       "       [ 3.29393617],\n",
       "       [ 3.18929825],\n",
       "       [ 3.24868794],\n",
       "       [ 3.31415441],\n",
       "       [ 3.36450382],\n",
       "       [ 3.39830769],\n",
       "       [ 3.46659722],\n",
       "       [ 3.41090278],\n",
       "       [ 3.31350694],\n",
       "       [ 3.28319444],\n",
       "       [ 3.29385417],\n",
       "       [ 3.31027778],\n",
       "       [ 3.41284722],\n",
       "       [ 3.27519298],\n",
       "       [ 3.25753472],\n",
       "       [ 3.31291667],\n",
       "       [ 3.35703333],\n",
       "       [ 3.374375  ],\n",
       "       [ 3.48111111],\n",
       "       [ 3.55638889],\n",
       "       [ 3.68581882],\n",
       "       [ 3.50277778],\n",
       "       [ 3.42875   ],\n",
       "       [ 3.58694444],\n",
       "       [ 3.658125  ],\n",
       "       [ 3.72774306],\n",
       "       [ 3.67361111],\n",
       "       [ 3.41402778],\n",
       "       [ 3.33083333],\n",
       "       [ 3.11864583],\n",
       "       [ 3.05648084],\n",
       "       [ 3.35944444],\n",
       "       [ 3.55486111],\n",
       "       [ 3.75538194],\n",
       "       [ 3.69326389],\n",
       "       [ 3.68989583],\n",
       "       [ 3.74034722],\n",
       "       [ 3.70013889],\n",
       "       [ 3.72857639],\n",
       "       [ 3.53965278],\n",
       "       [ 3.29458333],\n",
       "       [ 2.90409722],\n",
       "       [ 2.79597222],\n",
       "       [ 2.77864583],\n",
       "       [ 2.73145833],\n",
       "       [ 2.80458333],\n",
       "       [ 3.01680556],\n",
       "       [ 3.17069444],\n",
       "       [ 3.28590278],\n",
       "       [ 3.2828125 ],\n",
       "       [ 3.35517361],\n",
       "       [ 3.45836806],\n",
       "       [ 3.68451389],\n",
       "       [ 3.70395833],\n",
       "       [ 3.46909722],\n",
       "       [ 3.31048611],\n",
       "       [ 3.32604167],\n",
       "       [ 3.3146875 ],\n",
       "       [ 3.20888889],\n",
       "       [ 2.9103125 ],\n",
       "       [ 2.86684028],\n",
       "       [ 2.9212892 ],\n",
       "       [ 3.000625  ],\n",
       "       [ 3.11677083],\n",
       "       [ 3.3603125 ],\n",
       "       [ 3.59567944],\n",
       "       [ 3.60145833],\n",
       "       [ 3.47625   ],\n",
       "       [ 3.40350694],\n",
       "       [ 3.51524306],\n",
       "       [ 3.53416667],\n",
       "       [ 3.569375  ],\n",
       "       [ 3.54951389],\n",
       "       [ 3.51159722],\n",
       "       [ 3.474375  ],\n",
       "       [ 3.4825    ],\n",
       "       [ 3.42142361],\n",
       "       [ 3.37333333],\n",
       "       [ 3.38246528],\n",
       "       [ 3.37138889],\n",
       "       [ 3.35347222],\n",
       "       [ 3.36173611],\n",
       "       [ 3.40913194],\n",
       "       [ 3.41798611],\n",
       "       [ 3.39458333],\n",
       "       [ 3.3871875 ],\n",
       "       [ 3.33809028],\n",
       "       [ 3.33274306],\n",
       "       [ 3.38173611],\n",
       "       [ 3.15916667],\n",
       "       [ 3.06181185],\n",
       "       [ 3.09322917],\n",
       "       [ 3.06364583],\n",
       "       [ 3.01083333],\n",
       "       [ 3.10392361],\n",
       "       [ 3.29850534],\n",
       "       [ 3.42900826],\n",
       "       [ 3.525     ],\n",
       "       [ 3.51625874],\n",
       "       [ 3.49538194],\n",
       "       [ 3.49809028],\n",
       "       [ 3.49260417],\n",
       "       [ 3.44166667],\n",
       "       [ 3.46721254],\n",
       "       [ 3.55100694],\n",
       "       [ 3.51522648],\n",
       "       [ 3.36534722],\n",
       "       [ 3.43440972],\n",
       "       [ 3.50118056],\n",
       "       [ 3.50711806],\n",
       "       [ 3.51166667],\n",
       "       [ 3.43472222],\n",
       "       [ 3.3859375 ],\n",
       "       [ 3.33329861],\n",
       "       [ 3.35430556],\n",
       "       [ 3.37284722],\n",
       "       [ 3.46364583],\n",
       "       [ 3.76611111],\n",
       "       [ 3.60086806],\n",
       "       [ 3.45802083],\n",
       "       [ 3.38347222],\n",
       "       [ 3.35322917],\n",
       "       [ 3.31399306],\n",
       "       [ 3.23881944],\n",
       "       [ 3.23326389],\n",
       "       [ 3.30197917],\n",
       "       [ 3.35190972],\n",
       "       [ 3.39131944],\n",
       "       [ 3.45045139],\n",
       "       [ 3.54673611],\n",
       "       [ 3.57368056],\n",
       "       [ 3.3871875 ],\n",
       "       [ 3.29204861],\n",
       "       [ 3.27819444],\n",
       "       [ 3.32659722],\n",
       "       [ 3.37548611],\n",
       "       [ 3.45097222],\n",
       "       [ 3.52385417],\n",
       "       [ 3.49132404],\n",
       "       [ 3.47324042],\n",
       "       [ 3.49520833],\n",
       "       [ 3.58190972],\n",
       "       [ 3.55268116],\n",
       "       [ 3.44173611],\n",
       "       [ 3.44135417],\n",
       "       [ 3.39309028],\n",
       "       [ 3.41899306],\n",
       "       [ 3.450625  ],\n",
       "       [ 3.33315972],\n",
       "       [ 3.19427083],\n",
       "       [ 3.20629496],\n",
       "       [ 3.55440972],\n",
       "       [ 3.82986111],\n",
       "       [ 3.5315625 ],\n",
       "       [ 3.76111111],\n",
       "       [ 4.12847222],\n",
       "       [ 4.33364583],\n",
       "       [ 4.24625   ],\n",
       "       [ 4.19815972],\n",
       "       [ 3.93045139],\n",
       "       [ 3.83618705],\n",
       "       [ 3.80667883],\n",
       "       [ 4.19562963],\n",
       "       [ 4.57139373],\n",
       "       [ 4.68772727],\n",
       "       [ 4.87625   ],\n",
       "       [ 5.06767361],\n",
       "       [ 4.94677083],\n",
       "       [ 5.03114583],\n",
       "       [ 5.18618056],\n",
       "       [ 5.38673611],\n",
       "       [ 5.78829861],\n",
       "       [ 6.43934028],\n",
       "       [ 7.39944444],\n",
       "       [ 9.10506944],\n",
       "       [10.58489583],\n",
       "       [11.71614583],\n",
       "       [12.78503472],\n",
       "       [13.63395833],\n",
       "       [14.51222222],\n",
       "       [15.20642361],\n",
       "       [16.07003472],\n",
       "       [16.7421875 ],\n",
       "       [17.1959375 ],\n",
       "       [17.54690972],\n",
       "       [17.80868056],\n",
       "       [17.98663194],\n",
       "       [18.04902778],\n",
       "       [17.91954861],\n",
       "       [17.58364583],\n",
       "       [17.07607639],\n",
       "       [16.43479167],\n",
       "       [15.66822917],\n",
       "       [14.93791667],\n",
       "       [14.26611111],\n",
       "       [13.56520833],\n",
       "       [12.899375  ],\n",
       "       [12.28100694],\n",
       "       [11.63965278],\n",
       "       [11.03934028],\n",
       "       [10.51291667],\n",
       "       [10.11440972],\n",
       "       [ 9.79267361],\n",
       "       [ 9.54263889],\n",
       "       [ 9.49944444],\n",
       "       [ 9.6965625 ],\n",
       "       [ 9.85552083],\n",
       "       [10.39986111],\n",
       "       [11.60857639],\n",
       "       [12.94232639],\n",
       "       [14.07368056],\n",
       "       [14.72413194],\n",
       "       [14.72028986],\n",
       "       [14.22868056],\n",
       "       [13.45826389],\n",
       "       [12.51342657],\n",
       "       [11.44770833],\n",
       "       [10.35638889],\n",
       "       [ 9.40427083],\n",
       "       [ 8.52784722],\n",
       "       [ 7.60760417],\n",
       "       [ 6.63698246],\n",
       "       [ 5.88163194],\n",
       "       [ 5.36611111],\n",
       "       [ 4.96416667],\n",
       "       [ 4.77993056],\n",
       "       [ 4.64006993],\n",
       "       [ 4.45472222],\n",
       "       [ 4.21972222],\n",
       "       [ 4.16350694],\n",
       "       [ 3.94371528],\n",
       "       [ 3.78784722],\n",
       "       [ 3.64552083],\n",
       "       [ 3.71248227],\n",
       "       [ 3.6411215 ],\n",
       "       [ 3.58909408],\n",
       "       [ 3.58555556],\n",
       "       [ 3.48246528],\n",
       "       [ 3.28472222],\n",
       "       [ 3.16760417],\n",
       "       [ 3.26072917],\n",
       "       [ 3.34208333],\n",
       "       [ 3.28784722],\n",
       "       [ 3.25909722],\n",
       "       [ 3.15496528],\n",
       "       [ 3.12541667],\n",
       "       [ 3.19392361],\n",
       "       [ 3.3865625 ],\n",
       "       [ 3.3428125 ],\n",
       "       [ 3.34326389],\n",
       "       [ 3.26350694],\n",
       "       [ 3.17576389],\n",
       "       [ 3.14604167],\n",
       "       [ 3.0584375 ],\n",
       "       [ 3.23996528],\n",
       "       [ 3.35645833],\n",
       "       [ 3.33625   ],\n",
       "       [ 3.19659722],\n",
       "       [ 3.02829861],\n",
       "       [ 3.08354167],\n",
       "       [ 3.124375  ],\n",
       "       [ 3.12774306],\n",
       "       [ 3.12121528],\n",
       "       [ 3.13666667],\n",
       "       [ 3.19732639],\n",
       "       [ 3.13614583],\n",
       "       [ 3.08427083],\n",
       "       [ 3.05024306],\n",
       "       [ 3.03166667],\n",
       "       [ 3.04743056],\n",
       "       [ 3.18086806],\n",
       "       [ 3.30822917],\n",
       "       [ 3.33958333],\n",
       "       [ 3.13881944],\n",
       "       [ 3.02246528],\n",
       "       [ 2.98774306],\n",
       "       [ 3.03552083],\n",
       "       [ 3.14569444]])"
      ]
     },
     "execution_count": 531,
     "metadata": {},
     "output_type": "execute_result"
    }
   ],
   "source": [
    "ans = scaler2.inverse_transform(np.array(ytest).reshape(-1,1))\n",
    "ans"
   ]
  },
  {
   "cell_type": "code",
   "execution_count": 533,
   "id": "2d4c0419-a1fb-41af-8f24-b373f1e50e18",
   "metadata": {},
   "outputs": [],
   "source": [
    "ans = ans.reshape(705,)"
   ]
  },
  {
   "cell_type": "code",
   "execution_count": 534,
   "id": "ea54fc68-e734-4d58-a223-e404708328ed",
   "metadata": {},
   "outputs": [
    {
     "data": {
      "image/png": "[encoded data removed]",
      "text/plain": [
       "<Figure size 640x480 with 1 Axes>"
      ]
     },
     "metadata": {},
     "output_type": "display_data"
    }
   ],
   "source": [
    "plt.plot(yinv, label='Predicted values')\n",
    "plt.plot(ans, label='Observed values')\n",
    "plt.xlabel(\"Date\")\n",
    "plt.ylabel(\"Water Level (inches)\")\n",
    "plt.legend()\n",
    "plt.show()"
   ]
  },
  {
   "cell_type": "code",
   "execution_count": null,
   "id": "10a4fc02-3389-4482-8567-5e8bb698502a",
   "metadata": {},
   "outputs": [],
   "source": []
  },
  {
   "cell_type": "code",
   "execution_count": 53,
   "id": "92401420-0924-4d32-9e12-b0cce83e93d8",
   "metadata": {},
   "outputs": [
    {
     "data": {
      "image/png": "[encoded data removed]",
      "text/plain": [
       "<Figure size 640x480 with 1 Axes>"
      ]
     },
     "metadata": {},
     "output_type": "display_data"
    }
   ],
   "source": [
    "\n",
    "from matplotlib import pyplot as plt\n",
    "plt.plot(yinv, label='Predicted values')\n",
    "plt.plot(ans, label='Observed values')\n",
    "plt.xlabel(\"Date\")\n",
    "plt.ylabel(\"Water Level (inches)\")\n",
    "plt.legend()\n",
    "plt.show()"
   ]
  },
  {
   "cell_type": "code",
   "execution_count": 148,
   "id": "b7a1636e-a75f-48be-a097-6895ae7ad1c7",
   "metadata": {},
   "outputs": [
    {
     "data": {
      "text/plain": [
       "3.005392998586383"
      ]
     },
     "execution_count": 148,
     "metadata": {},
     "output_type": "execute_result"
    }
   ],
   "source": [
    "import math\n",
    "from sklearn.metrics import mean_squared_error as mse\n",
    "\n",
    "eval = mse(ans, yinv)\n",
    "math.sqrt(eval)"
   ]
  },
  {
   "cell_type": "code",
   "execution_count": 833,
   "id": "96e4ccf1-8316-4bff-8d42-9ef7b3be0ad7",
   "metadata": {},
   "outputs": [
    {
     "data": {
      "text/plain": [
       "0.21698259414227472"
      ]
     },
     "execution_count": 833,
     "metadata": {},
     "output_type": "execute_result"
    }
   ],
   "source": [
    "eval"
   ]
  },
  {
   "cell_type": "code",
   "execution_count": null,
   "id": "5f821b51-1be9-49db-ab99-33356de01605",
   "metadata": {},
   "outputs": [],
   "source": []
  },
  {
   "cell_type": "markdown",
   "id": "037325ed-1893-446b-a61f-a94d34199ed5",
   "metadata": {},
   "source": [
    "Univariate model"
   ]
  },
  {
   "cell_type": "code",
   "execution_count": 282,
   "id": "99d21fdb-f6e8-43ca-8dfd-7375bcfbdb99",
   "metadata": {},
   "outputs": [],
   "source": [
    "seed = 2016\n",
    "np.random.seed(seed)\n",
    "\n",
    "#specifiy model\n",
    "fit1 = Sequential()\n",
    "fit1.add(LSTM(10, activation='tanh', recurrent_activation='hard_sigmoid', input_shape=(1083, 3)))\n",
    "fit1.add(Dense(1, activation='linear')) #output layer"
   ]
  },
  {
   "cell_type": "code",
   "execution_count": 32,
   "id": "0fa787e9-d18c-4327-b726-83e724881664",
   "metadata": {},
   "outputs": [],
   "source": [
    "fit1.compile(loss=\"mean_squared_error\", optimizer=\"rmsprop\") #adaptive learning rate"
   ]
  },
  {
   "cell_type": "code",
   "execution_count": 56,
   "id": "4b8eb9a6-ac67-4632-baa8-375c352c0f24",
   "metadata": {},
   "outputs": [
    {
     "name": "stdout",
     "output_type": "stream",
     "text": [
      "Epoch 1/10\n",
      "1088/1088 [==============================] - 2s 1ms/step - loss: 8.4175e-04\n",
      "Epoch 2/10\n",
      "1088/1088 [==============================] - 2s 1ms/step - loss: 6.3866e-04\n",
      "Epoch 3/10\n",
      "1088/1088 [==============================] - 2s 1ms/step - loss: 5.8158e-04\n",
      "Epoch 4/10\n",
      "1088/1088 [==============================] - 2s 1ms/step - loss: 5.4813e-04\n",
      "Epoch 5/10\n",
      "1088/1088 [==============================] - 2s 1ms/step - loss: 4.9125e-04\n",
      "Epoch 6/10\n",
      "1088/1088 [==============================] - 2s 1ms/step - loss: 4.7394e-04\n",
      "Epoch 7/10\n",
      "1088/1088 [==============================] - 2s 1ms/step - loss: 4.7502e-04\n",
      "Epoch 8/10\n",
      "1088/1088 [==============================] - 2s 1ms/step - loss: 4.6001e-04\n",
      "Epoch 9/10\n",
      "1088/1088 [==============================] - 2s 1ms/step - loss: 4.6106e-04\n",
      "Epoch 10/10\n",
      "1088/1088 [==============================] - 2s 1ms/step - loss: 4.6916e-04\n"
     ]
    },
    {
     "data": {
      "text/plain": [
       "<keras.src.callbacks.History at 0x14ca767d0>"
      ]
     },
     "execution_count": 56,
     "metadata": {},
     "output_type": "execute_result"
    }
   ],
   "source": [
    "fit1.fit(xtrain, ytrain, batch_size=1, epochs=10, shuffle=True)"
   ]
  },
  {
   "cell_type": "code",
   "execution_count": 396,
   "id": "5ff6b72e-d968-4ff1-a404-c23b314d4256",
   "metadata": {},
   "outputs": [
    {
     "data": {
      "text/plain": [
       "0.03897122494593627"
      ]
     },
     "execution_count": 396,
     "metadata": {},
     "output_type": "execute_result"
    }
   ],
   "source": [
    "ytest"
   ]
  },
  {
   "cell_type": "code",
   "execution_count": 57,
   "id": "133805aa-fc3e-4efc-9111-4f512f392e4d",
   "metadata": {},
   "outputs": [
    {
     "name": "stdout",
     "output_type": "stream",
     "text": [
      "1088/1088 [==============================] - 1s 689us/step - loss: 5.2352e-04\n",
      "364/364 [==============================] - 0s 707us/step - loss: 0.0019\n",
      "0.0005235161515884101\n",
      "0.001888935687020421\n"
     ]
    }
   ],
   "source": [
    "#mse\n",
    "scoretrain = fit1.evaluate(xtrain, ytrain, batch_size=1)\n",
    "scoretest = fit1.evaluate(xtest, ytest, batch_size=1)\n",
    "print(scoretrain)\n",
    "print(scoretest)"
   ]
  },
  {
   "cell_type": "code",
   "execution_count": 58,
   "id": "21c08a11-17bb-4b3c-b0a7-cbaa67da1e53",
   "metadata": {},
   "outputs": [
    {
     "name": "stdout",
     "output_type": "stream",
     "text": [
      "12/12 [==============================] - 0s 952us/step\n"
     ]
    }
   ],
   "source": [
    "#scale mse back to original data range\n",
    "pred1 = fit1.predict(xtest)\n",
    "pred1 = scalery.inverse_transform(np.array(pred1).reshape((len(pred1),1)))"
   ]
  },
  {
   "cell_type": "code",
   "execution_count": 51,
   "id": "4de071a9-cb38-4b05-8760-b621bb707566",
   "metadata": {},
   "outputs": [],
   "source": [
    "real = scalery.inverse_transform(ytest)"
   ]
  },
  {
   "cell_type": "code",
   "execution_count": 59,
   "id": "969fb520-8960-4e51-a99f-2a962ecbb5f9",
   "metadata": {},
   "outputs": [
    {
     "data": {
      "text/plain": [
       "0.4431970540386023"
      ]
     },
     "execution_count": 59,
     "metadata": {},
     "output_type": "execute_result"
    }
   ],
   "source": [
    "from sklearn.metrics import mean_squared_error as mse\n",
    "mse(real, pred1)"
   ]
  },
  {
   "cell_type": "code",
   "execution_count": null,
   "id": "67e1e872-71fc-405e-a253-92de45499176",
   "metadata": {},
   "outputs": [],
   "source": [
    "import matplotlib.pyplot as plt\n",
    "plt.plot(pred1, label=\"prediction\")\n",
    "plt.plot(real, label=\"observed\")\n",
    "plt.show()\n",
    "#add axes, units, legend"
   ]
  },
  {
   "cell_type": "code",
   "execution_count": null,
   "id": "b581518f-687f-428b-a386-59685fbf749b",
   "metadata": {},
   "outputs": [],
   "source": []
  }
 ],
 "metadata": {
  "kernelspec": {
   "display_name": "Python 3 (ipykernel)",
   "language": "python",
   "name": "python3"
  },
  "language_info": {
   "codemirror_mode": {
    "name": "ipython",
    "version": 3
   },
   "file_extension": ".py",
   "mimetype": "text/x-python",
   "name": "python",
   "nbconvert_exporter": "python",
   "pygments_lexer": "ipython3",
   "version": "3.11.4"
  }
 },
 "nbformat": 4,
 "nbformat_minor": 5
}
